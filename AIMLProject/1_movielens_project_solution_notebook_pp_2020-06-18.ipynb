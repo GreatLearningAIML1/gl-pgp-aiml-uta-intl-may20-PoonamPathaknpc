{
 "cells": [
  {
   "cell_type": "markdown",
   "metadata": {},
   "source": [
    "### Project - MovieLens Data Analysis\n",
    "\n",
    "The GroupLens Research Project is a research group in the Department of Computer Science and Engineering at the University of Minnesota. The data is widely used for collaborative filtering and other filtering solutions. However, we will be using this data to act as a means to demonstrate our skill in using Python to “play” with data.\n",
    "\n",
    "#### Domain \n",
    "Internet and Entertainment\n",
    "\n",
    "**Note that the project will need you to apply the concepts of groupby and merging extensively.**"
   ]
  },
  {
   "cell_type": "code",
   "execution_count": null,
   "metadata": {},
   "outputs": [],
   "source": [
    "https://github.com/GreatLearningAIML1/gl-pgp-aiml-uta-intl-may20-PoonamPathaknpc.git"
   ]
  },
  {
   "cell_type": "markdown",
   "metadata": {},
   "source": [
    "#### 1. Import the necessary packages - 2.5 marks"
   ]
  },
  {
   "cell_type": "code",
   "execution_count": 2,
   "metadata": {},
   "outputs": [],
   "source": [
    "import numpy as np\n",
    "import pandas as pd\n",
    "import seaborn as sns \n",
    "import matplotlib.pyplot as mp\n",
    "sns.set(color_codes=True) # adds a nice background to the graphs\n",
    "%matplotlib inline "
   ]
  },
  {
   "cell_type": "markdown",
   "metadata": {},
   "source": [
    "#### 2. Read the 3 datasets into dataframes - 2.5 marks"
   ]
  },
  {
   "cell_type": "code",
   "execution_count": 3,
   "metadata": {
    "scrolled": true
   },
   "outputs": [
    {
     "name": "stdout",
     "output_type": "stream",
     "text": [
      "   user id  age gender  occupation zip code\n",
      "0        1   24      M  technician    85711\n",
      "1        2   53      F       other    94043\n",
      "2        3   23      M      writer    32067\n",
      "3        4   24      M  technician    43537\n",
      "4        5   33      F       other    15213\n",
      "   movie id  movie title release date  unknown  Action  Adventure  Animation  \\\n",
      "0         1   Toy Story   01-Jan-1995        0       0          0          1   \n",
      "1         2   GoldenEye   01-Jan-1995        0       1          1          0   \n",
      "2         3  Four Rooms   01-Jan-1995        0       0          0          0   \n",
      "3         4  Get Shorty   01-Jan-1995        0       1          0          0   \n",
      "4         5     Copycat   01-Jan-1995        0       0          0          0   \n",
      "\n",
      "   Childrens  Comedy  Crime  ...  Fantasy  Film-Noir  Horror  Musical  \\\n",
      "0          1       1      0  ...        0          0       0        0   \n",
      "1          0       0      0  ...        0          0       0        0   \n",
      "2          0       0      0  ...        0          0       0        0   \n",
      "3          0       1      0  ...        0          0       0        0   \n",
      "4          0       0      1  ...        0          0       0        0   \n",
      "\n",
      "   Mystery  Romance  Sci-Fi  Thriller  War  Western  \n",
      "0        0        0       0         0    0        0  \n",
      "1        0        0       0         1    0        0  \n",
      "2        0        0       0         1    0        0  \n",
      "3        0        0       0         0    0        0  \n",
      "4        0        0       0         1    0        0  \n",
      "\n",
      "[5 rows x 22 columns]\n",
      "   user id  movie id  rating  timestamp\n",
      "0      196       242       3  881250949\n",
      "1      186       302       3  891717742\n",
      "2       22       377       1  878887116\n",
      "3      244        51       2  880606923\n",
      "4      166       346       1  886397596\n"
     ]
    }
   ],
   "source": [
    "userdf = pd.read_csv('user.csv') \n",
    "print(userdf.head())\n",
    "itemdf = pd.read_csv('item.csv')\n",
    "print(itemdf.head())\n",
    "datadf = pd.read_csv('Data.csv')\n",
    "print(datadf.head())"
   ]
  },
  {
   "cell_type": "markdown",
   "metadata": {},
   "source": [
    "#### 3. Apply info, shape, describe, and find the number of missing values in the data - 5 marks"
   ]
  },
  {
   "cell_type": "code",
   "execution_count": 4,
   "metadata": {},
   "outputs": [
    {
     "name": "stdout",
     "output_type": "stream",
     "text": [
      "User data\n",
      "**********************************\n",
      "<class 'pandas.core.frame.DataFrame'>\n",
      "RangeIndex: 943 entries, 0 to 942\n",
      "Data columns (total 5 columns):\n",
      " #   Column      Non-Null Count  Dtype \n",
      "---  ------      --------------  ----- \n",
      " 0   user id     943 non-null    int64 \n",
      " 1   age         943 non-null    int64 \n",
      " 2   gender      943 non-null    object\n",
      " 3   occupation  943 non-null    object\n",
      " 4   zip code    943 non-null    object\n",
      "dtypes: int64(2), object(3)\n",
      "memory usage: 37.0+ KB\n",
      "None\n",
      "**********************************\n",
      "          user id         age\n",
      "count  943.000000  943.000000\n",
      "mean   472.000000   34.051962\n",
      "std    272.364951   12.192740\n",
      "min      1.000000    7.000000\n",
      "25%    236.500000   25.000000\n",
      "50%    472.000000   31.000000\n",
      "75%    707.500000   43.000000\n",
      "max    943.000000   73.000000\n",
      "**********************************\n",
      "(943, 5)\n",
      "**********************************\n",
      "user id       0\n",
      "age           0\n",
      "gender        0\n",
      "occupation    0\n",
      "zip code      0\n",
      "dtype: int64\n",
      "**********************************\n",
      "Item data\n",
      "**********************************\n",
      "<class 'pandas.core.frame.DataFrame'>\n",
      "RangeIndex: 1681 entries, 0 to 1680\n",
      "Data columns (total 22 columns):\n",
      " #   Column        Non-Null Count  Dtype \n",
      "---  ------        --------------  ----- \n",
      " 0   movie id      1681 non-null   int64 \n",
      " 1   movie title   1681 non-null   object\n",
      " 2   release date  1681 non-null   object\n",
      " 3   unknown       1681 non-null   int64 \n",
      " 4   Action        1681 non-null   int64 \n",
      " 5   Adventure     1681 non-null   int64 \n",
      " 6   Animation     1681 non-null   int64 \n",
      " 7   Childrens     1681 non-null   int64 \n",
      " 8   Comedy        1681 non-null   int64 \n",
      " 9   Crime         1681 non-null   int64 \n",
      " 10  Documentary   1681 non-null   int64 \n",
      " 11  Drama         1681 non-null   int64 \n",
      " 12  Fantasy       1681 non-null   int64 \n",
      " 13  Film-Noir     1681 non-null   int64 \n",
      " 14  Horror        1681 non-null   int64 \n",
      " 15  Musical       1681 non-null   int64 \n",
      " 16  Mystery       1681 non-null   int64 \n",
      " 17  Romance       1681 non-null   int64 \n",
      " 18  Sci-Fi        1681 non-null   int64 \n",
      " 19  Thriller      1681 non-null   int64 \n",
      " 20  War           1681 non-null   int64 \n",
      " 21  Western       1681 non-null   int64 \n",
      "dtypes: int64(20), object(2)\n",
      "memory usage: 289.0+ KB\n",
      "None\n",
      "**********************************\n",
      "          movie id      unknown       Action    Adventure    Animation  \\\n",
      "count  1681.000000  1681.000000  1681.000000  1681.000000  1681.000000   \n",
      "mean    841.841761     0.000595     0.149316     0.080309     0.024985   \n",
      "std     485.638077     0.024390     0.356506     0.271852     0.156126   \n",
      "min       1.000000     0.000000     0.000000     0.000000     0.000000   \n",
      "25%     422.000000     0.000000     0.000000     0.000000     0.000000   \n",
      "50%     842.000000     0.000000     0.000000     0.000000     0.000000   \n",
      "75%    1262.000000     0.000000     0.000000     0.000000     0.000000   \n",
      "max    1682.000000     1.000000     1.000000     1.000000     1.000000   \n",
      "\n",
      "         Childrens       Comedy        Crime  Documentary        Drama  \\\n",
      "count  1681.000000  1681.000000  1681.000000  1681.000000  1681.000000   \n",
      "mean      0.072576     0.300416     0.064842     0.029744     0.431291   \n",
      "std       0.259516     0.458576     0.246321     0.169931     0.495404   \n",
      "min       0.000000     0.000000     0.000000     0.000000     0.000000   \n",
      "25%       0.000000     0.000000     0.000000     0.000000     0.000000   \n",
      "50%       0.000000     0.000000     0.000000     0.000000     0.000000   \n",
      "75%       0.000000     1.000000     0.000000     0.000000     1.000000   \n",
      "max       1.000000     1.000000     1.000000     1.000000     1.000000   \n",
      "\n",
      "           Fantasy    Film-Noir       Horror      Musical      Mystery  \\\n",
      "count  1681.000000  1681.000000  1681.000000  1681.000000  1681.000000   \n",
      "mean      0.013087     0.014277     0.054729     0.033314     0.036288   \n",
      "std       0.113683     0.118667     0.227519     0.179507     0.187061   \n",
      "min       0.000000     0.000000     0.000000     0.000000     0.000000   \n",
      "25%       0.000000     0.000000     0.000000     0.000000     0.000000   \n",
      "50%       0.000000     0.000000     0.000000     0.000000     0.000000   \n",
      "75%       0.000000     0.000000     0.000000     0.000000     0.000000   \n",
      "max       1.000000     1.000000     1.000000     1.000000     1.000000   \n",
      "\n",
      "           Romance       Sci-Fi     Thriller          War      Western  \n",
      "count  1681.000000  1681.000000  1681.000000  1681.000000  1681.000000  \n",
      "mean      0.146936     0.060083     0.149316     0.042237     0.016062  \n",
      "std       0.354148     0.237712     0.356506     0.201189     0.125751  \n",
      "min       0.000000     0.000000     0.000000     0.000000     0.000000  \n",
      "25%       0.000000     0.000000     0.000000     0.000000     0.000000  \n",
      "50%       0.000000     0.000000     0.000000     0.000000     0.000000  \n",
      "75%       0.000000     0.000000     0.000000     0.000000     0.000000  \n",
      "max       1.000000     1.000000     1.000000     1.000000     1.000000  \n",
      "**********************************\n",
      "(1681, 22)\n",
      "**********************************\n",
      "movie id        0\n",
      "movie title     0\n",
      "release date    0\n",
      "unknown         0\n",
      "Action          0\n",
      "Adventure       0\n",
      "Animation       0\n",
      "Childrens       0\n",
      "Comedy          0\n",
      "Crime           0\n",
      "Documentary     0\n",
      "Drama           0\n",
      "Fantasy         0\n",
      "Film-Noir       0\n",
      "Horror          0\n",
      "Musical         0\n",
      "Mystery         0\n",
      "Romance         0\n",
      "Sci-Fi          0\n",
      "Thriller        0\n",
      "War             0\n",
      "Western         0\n",
      "dtype: int64\n",
      "**********************************\n",
      "Data data\n",
      "**********************************\n",
      "<class 'pandas.core.frame.DataFrame'>\n",
      "RangeIndex: 100000 entries, 0 to 99999\n",
      "Data columns (total 4 columns):\n",
      " #   Column     Non-Null Count   Dtype\n",
      "---  ------     --------------   -----\n",
      " 0   user id    100000 non-null  int64\n",
      " 1   movie id   100000 non-null  int64\n",
      " 2   rating     100000 non-null  int64\n",
      " 3   timestamp  100000 non-null  int64\n",
      "dtypes: int64(4)\n",
      "memory usage: 3.1 MB\n",
      "None\n",
      "**********************************\n",
      "            user id       movie id         rating     timestamp\n",
      "count  100000.00000  100000.000000  100000.000000  1.000000e+05\n",
      "mean      462.48475     425.530130       3.529860  8.835289e+08\n",
      "std       266.61442     330.798356       1.125674  5.343856e+06\n",
      "min         1.00000       1.000000       1.000000  8.747247e+08\n",
      "25%       254.00000     175.000000       3.000000  8.794487e+08\n",
      "50%       447.00000     322.000000       4.000000  8.828269e+08\n",
      "75%       682.00000     631.000000       4.000000  8.882600e+08\n",
      "max       943.00000    1682.000000       5.000000  8.932866e+08\n",
      "**********************************\n",
      "(100000, 4)\n",
      "**********************************\n",
      "user id      0\n",
      "movie id     0\n",
      "rating       0\n",
      "timestamp    0\n",
      "dtype: int64\n",
      "**********************************\n"
     ]
    }
   ],
   "source": [
    "print('User data')\n",
    "print('**********************************')\n",
    "print(userdf.info())\n",
    "print('**********************************')\n",
    "print(userdf.describe())\n",
    "print('**********************************')\n",
    "print(userdf.shape)\n",
    "print('**********************************')\n",
    "print(userdf.isnull().sum())\n",
    "print('**********************************')\n",
    "print('Item data')\n",
    "print('**********************************')\n",
    "print(itemdf.info())\n",
    "print('**********************************')\n",
    "print(itemdf.describe())\n",
    "print('**********************************')\n",
    "print(itemdf.shape)\n",
    "print('**********************************')\n",
    "print(itemdf.isnull().sum())\n",
    "print('**********************************')\n",
    "print('Data data')\n",
    "print('**********************************')\n",
    "print(datadf.info())\n",
    "print('**********************************')\n",
    "print(datadf.describe())\n",
    "print('**********************************')\n",
    "print(datadf.shape)\n",
    "print('**********************************')\n",
    "print(datadf.isnull().sum())\n",
    "print('**********************************')"
   ]
  },
  {
   "cell_type": "markdown",
   "metadata": {},
   "source": [
    "#### 4. Find the number of movies per genre using the item data - 5 marks"
   ]
  },
  {
   "cell_type": "code",
   "execution_count": 5,
   "metadata": {
    "scrolled": true
   },
   "outputs": [
    {
     "name": "stdout",
     "output_type": "stream",
     "text": [
      "unknown          1\n",
      "Action         251\n",
      "Adventure      135\n",
      "Animation       42\n",
      "Childrens      122\n",
      "Comedy         505\n",
      "Crime          109\n",
      "Documentary     50\n",
      "Drama          725\n",
      "Fantasy         22\n",
      "Film-Noir       24\n",
      "Horror          92\n",
      "Musical         56\n",
      "Mystery         61\n",
      "Romance        247\n",
      "Sci-Fi         101\n",
      "Thriller       251\n",
      "War             71\n",
      "Western         27\n",
      "dtype: int64\n"
     ]
    }
   ],
   "source": [
    "# use sum on the default axis\n",
    "\n",
    "#output file :q4_ans.csv\n",
    "df = itemdf.drop('movie id' , axis=1)\n",
    "df = df.drop('movie title' , axis=1)\n",
    "df = df.drop('release date' , axis=1)\n",
    "print(df.sum())\n",
    "df.sum().to_csv('q4_ans.csv',index=True)\n"
   ]
  },
  {
   "cell_type": "markdown",
   "metadata": {},
   "source": [
    "#### 5. Find the movies that have more than one genre - 2.5 marks"
   ]
  },
  {
   "cell_type": "code",
   "execution_count": 6,
   "metadata": {},
   "outputs": [
    {
     "name": "stdout",
     "output_type": "stream",
     "text": [
      "0               Toy Story \n",
      "1               GoldenEye \n",
      "3              Get Shorty \n",
      "4                 Copycat \n",
      "6          Twelve Monkeys \n",
      "               ...        \n",
      "1667    MURDER and murder \n",
      "1668              Tainted \n",
      "1671               Mirage \n",
      "1677            B. Monkey \n",
      "1678        Sliding Doors \n",
      "Name: movie title, Length: 849, dtype: object\n"
     ]
    }
   ],
   "source": [
    "#hint: use sum on the axis = 1\n",
    "\n",
    "#output file :q5_ans.csv\n",
    "tdf = pd.DataFrame({\"NumofCategories\":df.sum(axis=1)})\n",
    "mdf = pd.concat([itemdf,tdf],axis=1,sort=False)\n",
    "print(mdf.query('NumofCategories > 1')['movie title'])\n",
    "mdf.query('NumofCategories > 1')['movie title'].to_csv('q5_ans.csv',index=True)\n",
    "\n",
    "\n",
    "\n",
    "\n"
   ]
  },
  {
   "cell_type": "markdown",
   "metadata": {},
   "source": [
    "#### 6. Drop the movie where the genre is unknown - 2.5 marks"
   ]
  },
  {
   "cell_type": "code",
   "execution_count": 7,
   "metadata": {},
   "outputs": [],
   "source": [
    "#output file :q6_ans.csv\n",
    "unknown_id = itemdf.drop(itemdf.query('unknown == 1')['movie id'])\n",
    "unknown_id.to_csv('q6_ans.csv',index=True)\n"
   ]
  },
  {
   "cell_type": "markdown",
   "metadata": {},
   "source": [
    "### 7. Univariate plots of columns: 'rating', 'Age', 'release year', 'Gender' and 'Occupation' - 10 marks"
   ]
  },
  {
   "cell_type": "code",
   "execution_count": 8,
   "metadata": {},
   "outputs": [
    {
     "data": {
      "image/png": "[encoded data removed]",
      "text/plain": [
       "<Figure size 432x288 with 1 Axes>"
      ]
     },
     "metadata": {
      "needs_background": "light"
     },
     "output_type": "display_data"
    }
   ],
   "source": [
    "# HINT: use distplot for age and countplot for gender,ratings,occupation.\n",
    "# distplot for age\n",
    "sns.distplot(userdf['age'])\n",
    "fig = sns.distplot(userdf['age']).get_figure()\n",
    "fig.savefig(\"q7_ans_age.png\")"
   ]
  },
  {
   "cell_type": "code",
   "execution_count": 9,
   "metadata": {},
   "outputs": [
    {
     "data": {
      "image/png": "[encoded data removed]",
      "text/plain": [
       "<Figure size 432x288 with 1 Axes>"
      ]
     },
     "metadata": {
      "needs_background": "light"
     },
     "output_type": "display_data"
    }
   ],
   "source": [
    "# countplot for gender\n",
    "sns.countplot(userdf['gender'])\n",
    "fig = sns.countplot(userdf['gender']).get_figure()\n",
    "fig.savefig(\"q7_ans_gender.png\")"
   ]
  },
  {
   "cell_type": "code",
   "execution_count": 10,
   "metadata": {},
   "outputs": [
    {
     "data": {
      "image/png": "[encoded data removed]",
      "text/plain": [
       "<Figure size 432x288 with 1 Axes>"
      ]
     },
     "metadata": {
      "needs_background": "light"
     },
     "output_type": "display_data"
    }
   ],
   "source": [
    "# countplot for occupation\n",
    "sns.countplot(userdf['occupation'])\n",
    "fig = sns.countplot(userdf['occupation']).get_figure()\n",
    "fig.savefig(\"q7_ans_occupation.png\")"
   ]
  },
  {
   "cell_type": "code",
   "execution_count": 11,
   "metadata": {},
   "outputs": [
    {
     "data": {
      "image/png": "[encoded data removed]",
      "text/plain": [
       "<Figure size 432x288 with 1 Axes>"
      ]
     },
     "metadata": {
      "needs_background": "light"
     },
     "output_type": "display_data"
    }
   ],
   "source": [
    "# distplot for rating\n",
    "sns.distplot(datadf['rating'])\n",
    "fig = sns.distplot(datadf['rating']).get_figure()\n",
    "fig.savefig(\"q7_ans_rating.png\")"
   ]
  },
  {
   "cell_type": "code",
   "execution_count": 19,
   "metadata": {},
   "outputs": [
    {
     "data": {
      "image/png": "[encoded data removed]",
      "text/plain": [
       "<Figure size 432x288 with 1 Axes>"
      ]
     },
     "metadata": {
      "needs_background": "light"
     },
     "output_type": "display_data"
    }
   ],
   "source": [
    "# HINT: Please refer to the below snippet to understand how to get to release year from release date. You can use str.split()\n",
    "# as depicted below\n",
    "# Hint : Use displot without kde for release year or line plot showing year wise count.\n",
    "#similarly, the release year needs to be taken out from release date\n",
    "\n",
    "#function to fetch year from release date\n",
    "def get_year(s):\n",
    "    return s.split('-')[2]\n",
    "\n",
    "#distplot for release year\n",
    "sns.distplot(itemdf['release date'].apply(get_year))\n",
    "\n",
    "fig = sns.distplot(itemdf['release date'].apply(get_year)).get_figure()\n",
    "fig.savefig(\"q7_ans_release_date.png\")\n",
    "\n"
   ]
  },
  {
   "cell_type": "markdown",
   "metadata": {},
   "source": [
    "### 8. Visualize how popularity of genres has changed over the years - 10 marks\n",
    "\n",
    "Note that you need to use the number of releases in a year as a parameter of popularity of a genre"
   ]
  },
  {
   "cell_type": "markdown",
   "metadata": {},
   "source": [
    "Hint \n",
    "\n",
    "1: you need to reach to a data frame where the release year is the index and the genre is the column names (one cell shows the number of release in a year in one genre) or vice versa.\n",
    "Once that is achieved, you can either use univariate plots or can use the heatmap to visualise all the changes over the years \n",
    "in one go. \n",
    "\n",
    "Hint 2: Use groupby on the relevant column and use sum() on the same to find out the nuumber of releases in a year/genre.  "
   ]
  },
  {
   "cell_type": "code",
   "execution_count": 28,
   "metadata": {},
   "outputs": [],
   "source": [
    "# creating the data frame to track genre in column and release year in index\n",
    "itemdf.head()\n",
    "tdf = pd.DataFrame({\"release year\":itemdf['release date'].apply(get_year)})\n",
    "mdf = pd.concat([itemdf,tdf],axis=1,sort=False)\n",
    "df = mdf.groupby('release year').sum().drop('movie id' , axis=1)\n"
   ]
  },
  {
   "cell_type": "code",
   "execution_count": 27,
   "metadata": {},
   "outputs": [
    {
     "data": {
      "image/png": "[encoded data removed]",
      "text/plain": [
       "<Figure size 432x288 with 1 Axes>"
      ]
     },
     "metadata": {
      "needs_background": "light"
     },
     "output_type": "display_data"
    },
    {
     "data": {
      "image/png": "[encoded data removed]",
      "text/plain": [
       "<Figure size 432x288 with 1 Axes>"
      ]
     },
     "metadata": {
      "needs_background": "light"
     },
     "output_type": "display_data"
    },
    {
     "data": {
      "image/png": "[encoded data removed]",
      "text/plain": [
       "<Figure size 432x288 with 1 Axes>"
      ]
     },
     "metadata": {
      "needs_background": "light"
     },
     "output_type": "display_data"
    },
    {
     "data": {
      "image/png": "[encoded data removed]",
      "text/plain": [
       "<Figure size 432x288 with 1 Axes>"
      ]
     },
     "metadata": {
      "needs_background": "light"
     },
     "output_type": "display_data"
    },
    {
     "data": {
      "image/png": "[encoded data removed]",
      "text/plain": [
       "<Figure size 432x288 with 1 Axes>"
      ]
     },
     "metadata": {
      "needs_background": "light"
     },
     "output_type": "display_data"
    },
    {
     "data": {
      "image/png": "[encoded data removed]",
      "text/plain": [
       "<Figure size 432x288 with 1 Axes>"
      ]
     },
     "metadata": {
      "needs_background": "light"
     },
     "output_type": "display_data"
    },
    {
     "data": {
      "image/png": "[encoded data removed]",
      "text/plain": [
       "<Figure size 432x288 with 1 Axes>"
      ]
     },
     "metadata": {
      "needs_background": "light"
     },
     "output_type": "display_data"
    },
    {
     "data": {
      "image/png": "[encoded data removed]",
      "text/plain": [
       "<Figure size 432x288 with 1 Axes>"
      ]
     },
     "metadata": {
      "needs_background": "light"
     },
     "output_type": "display_data"
    },
    {
     "data": {
      "image/png": "[encoded data removed]",
      "text/plain": [
       "<Figure size 432x288 with 1 Axes>"
      ]
     },
     "metadata": {
      "needs_background": "light"
     },
     "output_type": "display_data"
    },
    {
     "data": {
      "image/png": "[encoded data removed]",
      "text/plain": [
       "<Figure size 432x288 with 1 Axes>"
      ]
     },
     "metadata": {
      "needs_background": "light"
     },
     "output_type": "display_data"
    },
    {
     "data": {
      "image/png": "[encoded data removed]",
      "text/plain": [
       "<Figure size 432x288 with 1 Axes>"
      ]
     },
     "metadata": {
      "needs_background": "light"
     },
     "output_type": "display_data"
    },
    {
     "data": {
      "image/png": "[encoded data removed]",
      "text/plain": [
       "<Figure size 432x288 with 1 Axes>"
      ]
     },
     "metadata": {
      "needs_background": "light"
     },
     "output_type": "display_data"
    },
    {
     "data": {
      "image/png": "[encoded data removed]",
      "text/plain": [
       "<Figure size 432x288 with 1 Axes>"
      ]
     },
     "metadata": {
      "needs_background": "light"
     },
     "output_type": "display_data"
    },
    {
     "data": {
      "image/png": "[encoded data removed]",
      "text/plain": [
       "<Figure size 432x288 with 1 Axes>"
      ]
     },
     "metadata": {
      "needs_background": "light"
     },
     "output_type": "display_data"
    },
    {
     "data": {
      "image/png": "[encoded data removed]",
      "text/plain": [
       "<Figure size 432x288 with 1 Axes>"
      ]
     },
     "metadata": {
      "needs_background": "light"
     },
     "output_type": "display_data"
    },
    {
     "data": {
      "image/png": "[encoded data removed]",
      "text/plain": [
       "<Figure size 432x288 with 1 Axes>"
      ]
     },
     "metadata": {
      "needs_background": "light"
     },
     "output_type": "display_data"
    },
    {
     "data": {
      "image/png": "[encoded data removed]",
      "text/plain": [
       "<Figure size 432x288 with 1 Axes>"
      ]
     },
     "metadata": {
      "needs_background": "light"
     },
     "output_type": "display_data"
    },
    {
     "data": {
      "image/png": "[encoded data removed]",
      "text/plain": [
       "<Figure size 432x288 with 1 Axes>"
      ]
     },
     "metadata": {
      "needs_background": "light"
     },
     "output_type": "display_data"
    },
    {
     "data": {
      "image/png": "[encoded data removed]",
      "text/plain": [
       "<Figure size 432x288 with 1 Axes>"
      ]
     },
     "metadata": {
      "needs_background": "light"
     },
     "output_type": "display_data"
    }
   ],
   "source": [
    "   \n",
    "#  SUBPLOTS made through for loop for each Genre\n",
    "for i, col in enumerate(df.columns):\n",
    "    mp.figure(i)\n",
    "    fig = sns.countplot(x=col, data=df)\n",
    "    fig.figure.savefig(\"q8_ans_\" + col + \".png\")"
   ]
  },
  {
   "cell_type": "markdown",
   "metadata": {},
   "source": [
    "### 9. Find the top 25 movies according to average ratings such that each movie has number of ratings more than 100 - 10 marks\n",
    "\n",
    "Hint : \n",
    "1. First find the movies that have more than 100 ratings(use merge, groupby and count). Extract the movie titles in a list.\n",
    "2. Find the average rating of all the movies and sort them in the descending order. You will have to use the .merge() function to reach to a data set through which you can get the names and the average rating.\n",
    "3. Use isin(list obtained from 1) to filter out the movies which have more than 100 ratings.\n",
    "\n",
    "Note: This question will need you to research about groupby and apply your findings. You can find more on groupby on https://realpython.com/pandas-groupby/."
   ]
  },
  {
   "cell_type": "code",
   "execution_count": 35,
   "metadata": {},
   "outputs": [
    {
     "data": {
      "text/plain": [
       "15                                      Close Shave, A \n",
       "16                                    Schindler's List \n",
       "17                                 Wrong Trousers, The \n",
       "18                                          Casablanca \n",
       "19     Wallace & Gromit: The Best of Aardman Animation \n",
       "20                           Shawshank Redemption, The \n",
       "21                                         Rear Window \n",
       "22                                 Usual Suspects, The \n",
       "23                                           Star Wars \n",
       "24                                        12 Angry Men \n",
       "25                                      Third Man, The \n",
       "28                                        Citizen Kane \n",
       "29                    Some Folks Call It a Sling Blade \n",
       "30                               To Kill a Mockingbird \n",
       "31                     One Flew Over the Cuckoo's Nest \n",
       "32                           Silence of the Lambs, The \n",
       "33                                  North by Northwest \n",
       "34                                      Godfather, The \n",
       "35                                      Secrets & Lies \n",
       "36                                   Good Will Hunting \n",
       "37                                     Shall We Dance? \n",
       "38                           Manchurian Candidate, The \n",
       "39    Dr. Strangelove or: How I Learned to Stop Worr...\n",
       "40                             Raiders of the Lost Ark \n",
       "41                                             Vertigo \n",
       "Name: movie title, dtype: object"
      ]
     },
     "execution_count": 35,
     "metadata": {},
     "output_type": "execute_result"
    }
   ],
   "source": [
    "#Finding the average rating of all the movies and sort them in the descending order\n",
    "\n",
    "tdf1 = pd.DataFrame({'total_rating':datadf.groupby('movie id').sum()['rating'],\n",
    "                     'rating avg':datadf.groupby('movie id').mean()['rating']})\n",
    "\n",
    "tdf2 = tdf1.sort_values(by = 'rating avg' , ascending = False)\n",
    "\n",
    "\n",
    "#getting top 25  movies with average ratings by filtering the set with movies that have more than 100 ratings\n",
    "df = pd.merge(tdf2,itemdf,how='outer',on='movie id').query('total_rating > 100').head(25)\n",
    "\n",
    "# display only the movie titles\n",
    "\n",
    "df['movie title'].to_csv('q9_ans.csv',index=True)\n",
    "\n",
    "df['movie title']\n",
    "\n"
   ]
  },
  {
   "cell_type": "markdown",
   "metadata": {},
   "source": [
    "### 10. See gender distribution across different genres check for the validity of the below statements - 10 marks\n",
    "\n",
    "* Men watch more drama than women\n",
    "* Women watch more Sci-Fi than men\n",
    "* Men watch more Romance than women\n"
   ]
  },
  {
   "cell_type": "markdown",
   "metadata": {},
   "source": [
    "1. There is no need to conduct statistical tests around this. Just compare the percentages and comment on the validity of the above statements.\n",
    "\n",
    "2. you might want ot use the .sum(), .div() function here.\n",
    "3. Use number of ratings to validate the numbers. For example, if out of 4000 ratings received by women, 3000 are for drama, we will assume that 75% of the women watch drama."
   ]
  },
  {
   "cell_type": "code",
   "execution_count": 39,
   "metadata": {},
   "outputs": [],
   "source": [
    "\n",
    "df = pd.merge(userdf,datadf,how='outer',on='user id')\n",
    "df = pd.merge(itemdf,df,on='movie id')\n",
    "\n",
    "# encode gender column with male - '0' and female - '1'\n",
    "df_dummies= pd.get_dummies(df, prefix='gender', columns=['gender'])\n",
    "\n",
    "tdf  = pd.DataFrame({'gender':df_dummies['gender_F'],\n",
    "                     'total_count':df_dummies.groupby('gender_F')['gender_F'].transform('count')}).drop_duplicates()"
   ]
  },
  {
   "cell_type": "code",
   "execution_count": 43,
   "metadata": {},
   "outputs": [
    {
     "data": {
      "text/html": [
       "<div>\n",
       "<style scoped>\n",
       "    .dataframe tbody tr th:only-of-type {\n",
       "        vertical-align: middle;\n",
       "    }\n",
       "\n",
       "    .dataframe tbody tr th {\n",
       "        vertical-align: top;\n",
       "    }\n",
       "\n",
       "    .dataframe thead th {\n",
       "        text-align: right;\n",
       "    }\n",
       "</style>\n",
       "<table border=\"1\" class=\"dataframe\">\n",
       "  <thead>\n",
       "    <tr style=\"text-align: right;\">\n",
       "      <th></th>\n",
       "      <th>gender</th>\n",
       "      <th>total_count</th>\n",
       "      <th>drama_count</th>\n",
       "      <th>% of Rating</th>\n",
       "    </tr>\n",
       "  </thead>\n",
       "  <tbody>\n",
       "    <tr>\n",
       "      <th>0</th>\n",
       "      <td>0</td>\n",
       "      <td>74253</td>\n",
       "      <td>28887</td>\n",
       "      <td>38.903479</td>\n",
       "    </tr>\n",
       "    <tr>\n",
       "      <th>1</th>\n",
       "      <td>1</td>\n",
       "      <td>25738</td>\n",
       "      <td>11008</td>\n",
       "      <td>42.769446</td>\n",
       "    </tr>\n",
       "  </tbody>\n",
       "</table>\n",
       "</div>"
      ],
      "text/plain": [
       "   gender  total_count  drama_count  % of Rating\n",
       "0       0        74253        28887    38.903479\n",
       "1       1        25738        11008    42.769446"
      ]
     },
     "execution_count": 43,
     "metadata": {},
     "output_type": "execute_result"
    }
   ],
   "source": [
    "#Men watch more drama than women?\n",
    "\n",
    "# data related to Drama\n",
    "ddf = df_dummies.query('Drama == 1')\n",
    "ddf1 = pd.DataFrame({'gender':ddf['gender_F'],\n",
    "                     'drama_count':ddf.groupby('gender_F')['gender_F'].transform('count')}).drop_duplicates()\n",
    "\n",
    "perc_df = pd.merge(tdf,ddf1,on='gender')\n",
    "\n",
    "\n",
    "perc_df['% of Rating'] = (perc_df['drama_count']/perc_df['total_count'])*100\n",
    "perc_df\n",
    "\n",
    "#Assumption: Rating has a direct relationship with viewing .\n",
    "#If women rating are more on drama then it can be inferred that they watch more dram\n",
    "# Observation from below data:\n",
    "# - 38.9% of Men ratings are for Drama\n",
    "# - 42.7% of Women ratings are for Drama\n",
    "\n",
    "#Conclusion: The statement that 'Men watch more drama than women' is not valid from the given data."
   ]
  },
  {
   "cell_type": "code",
   "execution_count": 42,
   "metadata": {},
   "outputs": [
    {
     "data": {
      "text/html": [
       "<div>\n",
       "<style scoped>\n",
       "    .dataframe tbody tr th:only-of-type {\n",
       "        vertical-align: middle;\n",
       "    }\n",
       "\n",
       "    .dataframe tbody tr th {\n",
       "        vertical-align: top;\n",
       "    }\n",
       "\n",
       "    .dataframe thead th {\n",
       "        text-align: right;\n",
       "    }\n",
       "</style>\n",
       "<table border=\"1\" class=\"dataframe\">\n",
       "  <thead>\n",
       "    <tr style=\"text-align: right;\">\n",
       "      <th></th>\n",
       "      <th>gender</th>\n",
       "      <th>total_count</th>\n",
       "      <th>romance_count</th>\n",
       "      <th>% of Rating</th>\n",
       "    </tr>\n",
       "  </thead>\n",
       "  <tbody>\n",
       "    <tr>\n",
       "      <th>0</th>\n",
       "      <td>0</td>\n",
       "      <td>74253</td>\n",
       "      <td>13603</td>\n",
       "      <td>18.319799</td>\n",
       "    </tr>\n",
       "    <tr>\n",
       "      <th>1</th>\n",
       "      <td>1</td>\n",
       "      <td>25738</td>\n",
       "      <td>5858</td>\n",
       "      <td>22.760121</td>\n",
       "    </tr>\n",
       "  </tbody>\n",
       "</table>\n",
       "</div>"
      ],
      "text/plain": [
       "   gender  total_count  romance_count  % of Rating\n",
       "0       0        74253          13603    18.319799\n",
       "1       1        25738           5858    22.760121"
      ]
     },
     "execution_count": 42,
     "metadata": {},
     "output_type": "execute_result"
    }
   ],
   "source": [
    "# Men watch more Romance than women\n",
    "# data related to Romance\n",
    "rdf = df_dummies.query('Romance == 1')\n",
    "ddf2 = pd.DataFrame({'gender':rdf['gender_F'],\n",
    "                     'romance_count':rdf.groupby('gender_F')['gender_F'].transform('count')}).drop_duplicates()\n",
    "\n",
    "perc_df = pd.merge(tdf,ddf2,on='gender')\n",
    "perc_df['% of Rating'] = (perc_df['romance_count']/perc_df['total_count'])*100\n",
    "perc_df\n",
    "\n",
    "# Observation from below data:\n",
    "# - 18.3% of Men ratings are for Romance\n",
    "# - 22.7% of Women ratings are for Romance\n",
    "\n",
    "#Conclusion:The statement that 'Men watch more Romance than women' is not valid from the given data.\n"
   ]
  },
  {
   "cell_type": "code",
   "execution_count": 41,
   "metadata": {},
   "outputs": [
    {
     "data": {
      "text/html": [
       "<div>\n",
       "<style scoped>\n",
       "    .dataframe tbody tr th:only-of-type {\n",
       "        vertical-align: middle;\n",
       "    }\n",
       "\n",
       "    .dataframe tbody tr th {\n",
       "        vertical-align: top;\n",
       "    }\n",
       "\n",
       "    .dataframe thead th {\n",
       "        text-align: right;\n",
       "    }\n",
       "</style>\n",
       "<table border=\"1\" class=\"dataframe\">\n",
       "  <thead>\n",
       "    <tr style=\"text-align: right;\">\n",
       "      <th></th>\n",
       "      <th>gender</th>\n",
       "      <th>total_count</th>\n",
       "      <th>scifi_count</th>\n",
       "      <th>% of Rating</th>\n",
       "    </tr>\n",
       "  </thead>\n",
       "  <tbody>\n",
       "    <tr>\n",
       "      <th>0</th>\n",
       "      <td>0</td>\n",
       "      <td>74253</td>\n",
       "      <td>10101</td>\n",
       "      <td>13.603491</td>\n",
       "    </tr>\n",
       "    <tr>\n",
       "      <th>1</th>\n",
       "      <td>1</td>\n",
       "      <td>25738</td>\n",
       "      <td>2629</td>\n",
       "      <td>10.214469</td>\n",
       "    </tr>\n",
       "  </tbody>\n",
       "</table>\n",
       "</div>"
      ],
      "text/plain": [
       "   gender  total_count  scifi_count  % of Rating\n",
       "0       0        74253        10101    13.603491\n",
       "1       1        25738         2629    10.214469"
      ]
     },
     "execution_count": 41,
     "metadata": {},
     "output_type": "execute_result"
    }
   ],
   "source": [
    "#Women watch more Sci-Fi than men\n",
    "\n",
    "# data related to SciFi\n",
    "sdf = df_dummies.rename(columns = {'Sci-Fi':'SciFi'}).query('SciFi == 1')\n",
    "ddf3 = pd.DataFrame({'gender':sdf['gender_F'],\n",
    "                     'scifi_count':sdf.groupby('gender_F')['gender_F'].transform('count')}).drop_duplicates()\n",
    "\n",
    "perc_df = pd.merge(tdf,ddf3,on='gender')\n",
    "perc_df['% of Rating'] = (perc_df['scifi_count']/perc_df['total_count'])*100\n",
    "perc_df\n",
    "\n",
    "\n",
    "# Observation from below data:\n",
    "# - 13.6% of Men ratings are for SciFi\n",
    "# - 10.2% of Women ratings are for SciFi\n",
    "\n",
    "#Conclusion: The statement that 'Women watch more Sci-Fi than men' is not valid from the given data."
   ]
  },
  {
   "cell_type": "code",
   "execution_count": null,
   "metadata": {},
   "outputs": [],
   "source": []
  }
 ],
 "metadata": {
  "kernelspec": {
   "display_name": "Python 3",
   "language": "python",
   "name": "python3"
  },
  "language_info": {
   "codemirror_mode": {
    "name": "ipython",
    "version": 3
   },
   "file_extension": ".py",
   "mimetype": "text/x-python",
   "name": "python",
   "nbconvert_exporter": "python",
   "pygments_lexer": "ipython3",
   "version": "3.7.6"
  }
 },
 "nbformat": 4,
 "nbformat_minor": 4
}
