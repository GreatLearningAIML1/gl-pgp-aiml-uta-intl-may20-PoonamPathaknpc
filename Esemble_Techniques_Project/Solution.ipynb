{
 "cells": [
  {
   "cell_type": "markdown",
   "metadata": {},
   "source": [
    "#### Project URL"
   ]
  },
  {
   "cell_type": "markdown",
   "metadata": {},
   "source": [
    "##### https://github.com/GreatLearningAIML1/gl-pgp-aiml-uta-intl-may20-PoonamPathaknpc/tree/master/Esemble_Techniques_Project"
   ]
  },
  {
   "cell_type": "markdown",
   "metadata": {},
   "source": [
    "#### 1. Univariate analysis"
   ]
  },
  {
   "cell_type": "markdown",
   "metadata": {},
   "source": [
    "   #### a. Univariate analysis – data types and description of the independent attributes which should include (name, meaning,         range of values observed, central values (mean and median), standard deviation and quartiles, analysis of the body of       distributions / tails, missing values, outliers.\n"
   ]
  },
  {
   "cell_type": "code",
   "execution_count": 191,
   "metadata": {},
   "outputs": [],
   "source": [
    "#import libraries \n",
    "import numpy as np # linear algebra\n",
    "import pandas as pd # data processing, CSV file I/O (e.g. pd.read_csv)\n",
    "import matplotlib.pyplot as plt       # matplotlib.pyplot plots data\n",
    "from sklearn.externals.six import StringIO  \n",
    "from IPython.display import display, HTML\n",
    "%matplotlib inline \n",
    "import seaborn as sns"
   ]
  },
  {
   "cell_type": "code",
   "execution_count": 192,
   "metadata": {},
   "outputs": [
    {
     "data": {
      "text/html": [
       "<div>\n",
       "<style scoped>\n",
       "    .dataframe tbody tr th:only-of-type {\n",
       "        vertical-align: middle;\n",
       "    }\n",
       "\n",
       "    .dataframe tbody tr th {\n",
       "        vertical-align: top;\n",
       "    }\n",
       "\n",
       "    .dataframe thead th {\n",
       "        text-align: right;\n",
       "    }\n",
       "</style>\n",
       "<table border=\"1\" class=\"dataframe\">\n",
       "  <thead>\n",
       "    <tr style=\"text-align: right;\">\n",
       "      <th></th>\n",
       "      <th>age</th>\n",
       "      <th>job</th>\n",
       "      <th>marital</th>\n",
       "      <th>education</th>\n",
       "      <th>default</th>\n",
       "      <th>balance</th>\n",
       "      <th>housing</th>\n",
       "      <th>loan</th>\n",
       "      <th>contact</th>\n",
       "      <th>day</th>\n",
       "      <th>month</th>\n",
       "      <th>duration</th>\n",
       "      <th>campaign</th>\n",
       "      <th>pdays</th>\n",
       "      <th>previous</th>\n",
       "      <th>poutcome</th>\n",
       "      <th>Target</th>\n",
       "    </tr>\n",
       "  </thead>\n",
       "  <tbody>\n",
       "    <tr>\n",
       "      <th>0</th>\n",
       "      <td>58</td>\n",
       "      <td>management</td>\n",
       "      <td>married</td>\n",
       "      <td>tertiary</td>\n",
       "      <td>no</td>\n",
       "      <td>2143</td>\n",
       "      <td>yes</td>\n",
       "      <td>no</td>\n",
       "      <td>unknown</td>\n",
       "      <td>5</td>\n",
       "      <td>may</td>\n",
       "      <td>261</td>\n",
       "      <td>1</td>\n",
       "      <td>-1</td>\n",
       "      <td>0</td>\n",
       "      <td>unknown</td>\n",
       "      <td>no</td>\n",
       "    </tr>\n",
       "    <tr>\n",
       "      <th>1</th>\n",
       "      <td>44</td>\n",
       "      <td>technician</td>\n",
       "      <td>single</td>\n",
       "      <td>secondary</td>\n",
       "      <td>no</td>\n",
       "      <td>29</td>\n",
       "      <td>yes</td>\n",
       "      <td>no</td>\n",
       "      <td>unknown</td>\n",
       "      <td>5</td>\n",
       "      <td>may</td>\n",
       "      <td>151</td>\n",
       "      <td>1</td>\n",
       "      <td>-1</td>\n",
       "      <td>0</td>\n",
       "      <td>unknown</td>\n",
       "      <td>no</td>\n",
       "    </tr>\n",
       "    <tr>\n",
       "      <th>2</th>\n",
       "      <td>33</td>\n",
       "      <td>entrepreneur</td>\n",
       "      <td>married</td>\n",
       "      <td>secondary</td>\n",
       "      <td>no</td>\n",
       "      <td>2</td>\n",
       "      <td>yes</td>\n",
       "      <td>yes</td>\n",
       "      <td>unknown</td>\n",
       "      <td>5</td>\n",
       "      <td>may</td>\n",
       "      <td>76</td>\n",
       "      <td>1</td>\n",
       "      <td>-1</td>\n",
       "      <td>0</td>\n",
       "      <td>unknown</td>\n",
       "      <td>no</td>\n",
       "    </tr>\n",
       "    <tr>\n",
       "      <th>3</th>\n",
       "      <td>47</td>\n",
       "      <td>blue-collar</td>\n",
       "      <td>married</td>\n",
       "      <td>unknown</td>\n",
       "      <td>no</td>\n",
       "      <td>1506</td>\n",
       "      <td>yes</td>\n",
       "      <td>no</td>\n",
       "      <td>unknown</td>\n",
       "      <td>5</td>\n",
       "      <td>may</td>\n",
       "      <td>92</td>\n",
       "      <td>1</td>\n",
       "      <td>-1</td>\n",
       "      <td>0</td>\n",
       "      <td>unknown</td>\n",
       "      <td>no</td>\n",
       "    </tr>\n",
       "    <tr>\n",
       "      <th>4</th>\n",
       "      <td>33</td>\n",
       "      <td>unknown</td>\n",
       "      <td>single</td>\n",
       "      <td>unknown</td>\n",
       "      <td>no</td>\n",
       "      <td>1</td>\n",
       "      <td>no</td>\n",
       "      <td>no</td>\n",
       "      <td>unknown</td>\n",
       "      <td>5</td>\n",
       "      <td>may</td>\n",
       "      <td>198</td>\n",
       "      <td>1</td>\n",
       "      <td>-1</td>\n",
       "      <td>0</td>\n",
       "      <td>unknown</td>\n",
       "      <td>no</td>\n",
       "    </tr>\n",
       "    <tr>\n",
       "      <th>5</th>\n",
       "      <td>35</td>\n",
       "      <td>management</td>\n",
       "      <td>married</td>\n",
       "      <td>tertiary</td>\n",
       "      <td>no</td>\n",
       "      <td>231</td>\n",
       "      <td>yes</td>\n",
       "      <td>no</td>\n",
       "      <td>unknown</td>\n",
       "      <td>5</td>\n",
       "      <td>may</td>\n",
       "      <td>139</td>\n",
       "      <td>1</td>\n",
       "      <td>-1</td>\n",
       "      <td>0</td>\n",
       "      <td>unknown</td>\n",
       "      <td>no</td>\n",
       "    </tr>\n",
       "    <tr>\n",
       "      <th>6</th>\n",
       "      <td>28</td>\n",
       "      <td>management</td>\n",
       "      <td>single</td>\n",
       "      <td>tertiary</td>\n",
       "      <td>no</td>\n",
       "      <td>447</td>\n",
       "      <td>yes</td>\n",
       "      <td>yes</td>\n",
       "      <td>unknown</td>\n",
       "      <td>5</td>\n",
       "      <td>may</td>\n",
       "      <td>217</td>\n",
       "      <td>1</td>\n",
       "      <td>-1</td>\n",
       "      <td>0</td>\n",
       "      <td>unknown</td>\n",
       "      <td>no</td>\n",
       "    </tr>\n",
       "    <tr>\n",
       "      <th>7</th>\n",
       "      <td>42</td>\n",
       "      <td>entrepreneur</td>\n",
       "      <td>divorced</td>\n",
       "      <td>tertiary</td>\n",
       "      <td>yes</td>\n",
       "      <td>2</td>\n",
       "      <td>yes</td>\n",
       "      <td>no</td>\n",
       "      <td>unknown</td>\n",
       "      <td>5</td>\n",
       "      <td>may</td>\n",
       "      <td>380</td>\n",
       "      <td>1</td>\n",
       "      <td>-1</td>\n",
       "      <td>0</td>\n",
       "      <td>unknown</td>\n",
       "      <td>no</td>\n",
       "    </tr>\n",
       "    <tr>\n",
       "      <th>8</th>\n",
       "      <td>58</td>\n",
       "      <td>retired</td>\n",
       "      <td>married</td>\n",
       "      <td>primary</td>\n",
       "      <td>no</td>\n",
       "      <td>121</td>\n",
       "      <td>yes</td>\n",
       "      <td>no</td>\n",
       "      <td>unknown</td>\n",
       "      <td>5</td>\n",
       "      <td>may</td>\n",
       "      <td>50</td>\n",
       "      <td>1</td>\n",
       "      <td>-1</td>\n",
       "      <td>0</td>\n",
       "      <td>unknown</td>\n",
       "      <td>no</td>\n",
       "    </tr>\n",
       "    <tr>\n",
       "      <th>9</th>\n",
       "      <td>43</td>\n",
       "      <td>technician</td>\n",
       "      <td>single</td>\n",
       "      <td>secondary</td>\n",
       "      <td>no</td>\n",
       "      <td>593</td>\n",
       "      <td>yes</td>\n",
       "      <td>no</td>\n",
       "      <td>unknown</td>\n",
       "      <td>5</td>\n",
       "      <td>may</td>\n",
       "      <td>55</td>\n",
       "      <td>1</td>\n",
       "      <td>-1</td>\n",
       "      <td>0</td>\n",
       "      <td>unknown</td>\n",
       "      <td>no</td>\n",
       "    </tr>\n",
       "  </tbody>\n",
       "</table>\n",
       "</div>"
      ],
      "text/plain": [
       "   age           job   marital  education default  balance housing loan  \\\n",
       "0   58    management   married   tertiary      no     2143     yes   no   \n",
       "1   44    technician    single  secondary      no       29     yes   no   \n",
       "2   33  entrepreneur   married  secondary      no        2     yes  yes   \n",
       "3   47   blue-collar   married    unknown      no     1506     yes   no   \n",
       "4   33       unknown    single    unknown      no        1      no   no   \n",
       "5   35    management   married   tertiary      no      231     yes   no   \n",
       "6   28    management    single   tertiary      no      447     yes  yes   \n",
       "7   42  entrepreneur  divorced   tertiary     yes        2     yes   no   \n",
       "8   58       retired   married    primary      no      121     yes   no   \n",
       "9   43    technician    single  secondary      no      593     yes   no   \n",
       "\n",
       "   contact  day month  duration  campaign  pdays  previous poutcome Target  \n",
       "0  unknown    5   may       261         1     -1         0  unknown     no  \n",
       "1  unknown    5   may       151         1     -1         0  unknown     no  \n",
       "2  unknown    5   may        76         1     -1         0  unknown     no  \n",
       "3  unknown    5   may        92         1     -1         0  unknown     no  \n",
       "4  unknown    5   may       198         1     -1         0  unknown     no  \n",
       "5  unknown    5   may       139         1     -1         0  unknown     no  \n",
       "6  unknown    5   may       217         1     -1         0  unknown     no  \n",
       "7  unknown    5   may       380         1     -1         0  unknown     no  \n",
       "8  unknown    5   may        50         1     -1         0  unknown     no  \n",
       "9  unknown    5   may        55         1     -1         0  unknown     no  "
      ]
     },
     "execution_count": 192,
     "metadata": {},
     "output_type": "execute_result"
    }
   ],
   "source": [
    "csv = pd.read_csv(\"bank-full.csv\")\n",
    "csv.head(10)"
   ]
  },
  {
   "cell_type": "code",
   "execution_count": 193,
   "metadata": {},
   "outputs": [
    {
     "data": {
      "text/plain": [
       "(45211, 17)"
      ]
     },
     "execution_count": 193,
     "metadata": {},
     "output_type": "execute_result"
    }
   ],
   "source": [
    "# shape\n",
    "csv.shape"
   ]
  },
  {
   "cell_type": "code",
   "execution_count": 194,
   "metadata": {},
   "outputs": [
    {
     "data": {
      "text/plain": [
       "age           int64\n",
       "job          object\n",
       "marital      object\n",
       "education    object\n",
       "default      object\n",
       "balance       int64\n",
       "housing      object\n",
       "loan         object\n",
       "contact      object\n",
       "day           int64\n",
       "month        object\n",
       "duration      int64\n",
       "campaign      int64\n",
       "pdays         int64\n",
       "previous      int64\n",
       "poutcome     object\n",
       "Target       object\n",
       "dtype: object"
      ]
     },
     "execution_count": 194,
     "metadata": {},
     "output_type": "execute_result"
    }
   ],
   "source": [
    "#data types\n",
    "csv.dtypes"
   ]
  },
  {
   "cell_type": "markdown",
   "metadata": {},
   "source": [
    "##### Central values (mean and median), standard deviation and quartiles\n",
    "\n"
   ]
  },
  {
   "cell_type": "code",
   "execution_count": 195,
   "metadata": {},
   "outputs": [
    {
     "data": {
      "text/html": [
       "<div>\n",
       "<style scoped>\n",
       "    .dataframe tbody tr th:only-of-type {\n",
       "        vertical-align: middle;\n",
       "    }\n",
       "\n",
       "    .dataframe tbody tr th {\n",
       "        vertical-align: top;\n",
       "    }\n",
       "\n",
       "    .dataframe thead th {\n",
       "        text-align: right;\n",
       "    }\n",
       "</style>\n",
       "<table border=\"1\" class=\"dataframe\">\n",
       "  <thead>\n",
       "    <tr style=\"text-align: right;\">\n",
       "      <th></th>\n",
       "      <th>age</th>\n",
       "      <th>balance</th>\n",
       "      <th>day</th>\n",
       "      <th>duration</th>\n",
       "      <th>campaign</th>\n",
       "      <th>pdays</th>\n",
       "      <th>previous</th>\n",
       "    </tr>\n",
       "  </thead>\n",
       "  <tbody>\n",
       "    <tr>\n",
       "      <th>count</th>\n",
       "      <td>45211.000000</td>\n",
       "      <td>45211.000000</td>\n",
       "      <td>45211.000000</td>\n",
       "      <td>45211.000000</td>\n",
       "      <td>45211.000000</td>\n",
       "      <td>45211.000000</td>\n",
       "      <td>45211.000000</td>\n",
       "    </tr>\n",
       "    <tr>\n",
       "      <th>mean</th>\n",
       "      <td>40.936210</td>\n",
       "      <td>1362.272058</td>\n",
       "      <td>15.806419</td>\n",
       "      <td>258.163080</td>\n",
       "      <td>2.763841</td>\n",
       "      <td>40.197828</td>\n",
       "      <td>0.580323</td>\n",
       "    </tr>\n",
       "    <tr>\n",
       "      <th>std</th>\n",
       "      <td>10.618762</td>\n",
       "      <td>3044.765829</td>\n",
       "      <td>8.322476</td>\n",
       "      <td>257.527812</td>\n",
       "      <td>3.098021</td>\n",
       "      <td>100.128746</td>\n",
       "      <td>2.303441</td>\n",
       "    </tr>\n",
       "    <tr>\n",
       "      <th>min</th>\n",
       "      <td>18.000000</td>\n",
       "      <td>-8019.000000</td>\n",
       "      <td>1.000000</td>\n",
       "      <td>0.000000</td>\n",
       "      <td>1.000000</td>\n",
       "      <td>-1.000000</td>\n",
       "      <td>0.000000</td>\n",
       "    </tr>\n",
       "    <tr>\n",
       "      <th>25%</th>\n",
       "      <td>33.000000</td>\n",
       "      <td>72.000000</td>\n",
       "      <td>8.000000</td>\n",
       "      <td>103.000000</td>\n",
       "      <td>1.000000</td>\n",
       "      <td>-1.000000</td>\n",
       "      <td>0.000000</td>\n",
       "    </tr>\n",
       "    <tr>\n",
       "      <th>50%</th>\n",
       "      <td>39.000000</td>\n",
       "      <td>448.000000</td>\n",
       "      <td>16.000000</td>\n",
       "      <td>180.000000</td>\n",
       "      <td>2.000000</td>\n",
       "      <td>-1.000000</td>\n",
       "      <td>0.000000</td>\n",
       "    </tr>\n",
       "    <tr>\n",
       "      <th>75%</th>\n",
       "      <td>48.000000</td>\n",
       "      <td>1428.000000</td>\n",
       "      <td>21.000000</td>\n",
       "      <td>319.000000</td>\n",
       "      <td>3.000000</td>\n",
       "      <td>-1.000000</td>\n",
       "      <td>0.000000</td>\n",
       "    </tr>\n",
       "    <tr>\n",
       "      <th>max</th>\n",
       "      <td>95.000000</td>\n",
       "      <td>102127.000000</td>\n",
       "      <td>31.000000</td>\n",
       "      <td>4918.000000</td>\n",
       "      <td>63.000000</td>\n",
       "      <td>871.000000</td>\n",
       "      <td>275.000000</td>\n",
       "    </tr>\n",
       "    <tr>\n",
       "      <th>median</th>\n",
       "      <td>39.000000</td>\n",
       "      <td>448.000000</td>\n",
       "      <td>16.000000</td>\n",
       "      <td>180.000000</td>\n",
       "      <td>2.000000</td>\n",
       "      <td>-1.000000</td>\n",
       "      <td>0.000000</td>\n",
       "    </tr>\n",
       "  </tbody>\n",
       "</table>\n",
       "</div>"
      ],
      "text/plain": [
       "                 age        balance           day      duration      campaign  \\\n",
       "count   45211.000000   45211.000000  45211.000000  45211.000000  45211.000000   \n",
       "mean       40.936210    1362.272058     15.806419    258.163080      2.763841   \n",
       "std        10.618762    3044.765829      8.322476    257.527812      3.098021   \n",
       "min        18.000000   -8019.000000      1.000000      0.000000      1.000000   \n",
       "25%        33.000000      72.000000      8.000000    103.000000      1.000000   \n",
       "50%        39.000000     448.000000     16.000000    180.000000      2.000000   \n",
       "75%        48.000000    1428.000000     21.000000    319.000000      3.000000   \n",
       "max        95.000000  102127.000000     31.000000   4918.000000     63.000000   \n",
       "median     39.000000     448.000000     16.000000    180.000000      2.000000   \n",
       "\n",
       "               pdays      previous  \n",
       "count   45211.000000  45211.000000  \n",
       "mean       40.197828      0.580323  \n",
       "std       100.128746      2.303441  \n",
       "min        -1.000000      0.000000  \n",
       "25%        -1.000000      0.000000  \n",
       "50%        -1.000000      0.000000  \n",
       "75%        -1.000000      0.000000  \n",
       "max       871.000000    275.000000  \n",
       "median     -1.000000      0.000000  "
      ]
     },
     "execution_count": 195,
     "metadata": {},
     "output_type": "execute_result"
    }
   ],
   "source": [
    " pd.concat([csv.describe(),pd.DataFrame(csv.median() , columns = [\"median\"] ).T])\n",
    "\n"
   ]
  },
  {
   "cell_type": "markdown",
   "metadata": {},
   "source": [
    "##### Histogram for all the numerical features\n",
    "\n"
   ]
  },
  {
   "cell_type": "code",
   "execution_count": 196,
   "metadata": {},
   "outputs": [
    {
     "data": {
      "image/png": "[encoded data removed]",
      "text/plain": [
       "<Figure size 864x2160 with 28 Axes>"
      ]
     },
     "metadata": {
      "needs_background": "light"
     },
     "output_type": "display_data"
    }
   ],
   "source": [
    "columns = list(csv)[0:-1] # Excluding Outcome column which has only\n",
    "\n",
    "csv[columns].hist(stacked=True, bins=100, figsize=(12,30), layout=(14,2)); "
   ]
  },
  {
   "cell_type": "markdown",
   "metadata": {},
   "source": [
    "##### Count plot of all the categorical columns"
   ]
  },
  {
   "cell_type": "code",
   "execution_count": 197,
   "metadata": {},
   "outputs": [
    {
     "data": {
      "image/png": "[encoded data removed]",
      "text/plain": [
       "<Figure size 648x648 with 9 Axes>"
      ]
     },
     "metadata": {
      "needs_background": "light"
     },
     "output_type": "display_data"
    }
   ],
   "source": [
    "lst = ['job','marital','education','default','housing','loan','contact','month','poutcome']\n",
    "\n",
    "fig, axarr = plt.subplots(nrows=3, ncols=3,\n",
    "                        figsize=(9, 9), constrained_layout=True)\n",
    "for i, p in enumerate(lst):\n",
    "  row = i//3;\n",
    "  pos = i%3;\n",
    "  sns.countplot(csv[p],ax=axarr[row][pos]);\n",
    "#plt.show();"
   ]
  },
  {
   "cell_type": "markdown",
   "metadata": {},
   "source": [
    "##### Missing information"
   ]
  },
  {
   "cell_type": "code",
   "execution_count": 198,
   "metadata": {},
   "outputs": [
    {
     "name": "stdout",
     "output_type": "stream",
     "text": [
      "% of Clients whose poutcome is unknown =  81.74780473778506\n",
      "% of Clients with unknown communication type =  28.798301298356595\n",
      "% of Clients whose education infoemation is unknown =  4.1074074893278185\n"
     ]
    }
   ],
   "source": [
    "cData = pd.get_dummies(csv, columns=['poutcome'])\n",
    "cData = pd.get_dummies(cData, columns=['contact'])\n",
    "cData = pd.get_dummies(cData, columns=['education'])\n",
    "cData\n",
    "\n",
    "\n",
    "print('% of Clients whose poutcome is unknown = ',cData.query('poutcome_unknown == 1')['poutcome_unknown'].count()/cData['poutcome_unknown'].count()*100)\n",
    "print('% of Clients with unknown communication type = ',cData.query('contact_unknown == 1')['contact_unknown'].count()/cData['contact_unknown'].count()*100)\n",
    "print('% of Clients whose education infoemation is unknown = ',cData.query('education_unknown == 1')['education_unknown'].count()/cData['education_unknown'].count()*100)\n"
   ]
  },
  {
   "cell_type": "code",
   "execution_count": 199,
   "metadata": {},
   "outputs": [
    {
     "data": {
      "text/plain": [
       "False"
      ]
     },
     "execution_count": 199,
     "metadata": {},
     "output_type": "execute_result"
    }
   ],
   "source": [
    "csv.isnull().any().any()"
   ]
  },
  {
   "cell_type": "markdown",
   "metadata": {},
   "source": [
    "#### Observations on body of distributions / tails, missing values, outliers:\n",
    "\n",
    "##### From the histogram plots and count plot of numerical and categorical values respectively following abservations can be made:\n",
    "#####  - There are no null values but attributes such as Education , poutcome and Communication have missing information in the form of unknowns. \n",
    "#####  - Feature 'poutcome' has around 81% of its values are unknown/missing information."
   ]
  },
  {
   "cell_type": "code",
   "execution_count": 200,
   "metadata": {},
   "outputs": [
    {
     "data": {
      "text/plain": [
       "unknown    36959\n",
       "failure     4901\n",
       "other       1840\n",
       "success     1511\n",
       "Name: poutcome, dtype: int64"
      ]
     },
     "execution_count": 200,
     "metadata": {},
     "output_type": "execute_result"
    }
   ],
   "source": [
    "csv['poutcome'].value_counts()"
   ]
  },
  {
   "cell_type": "markdown",
   "metadata": {},
   "source": [
    "#####  - From the below numerical attributes such as Duration, Previous and Balance have  right skewed distribution with balance and previous as highly skewed.\n",
    "\n"
   ]
  },
  {
   "cell_type": "code",
   "execution_count": 201,
   "metadata": {},
   "outputs": [
    {
     "data": {
      "image/png": "[encoded data removed]",
      "text/plain": [
       "<Figure size 648x648 with 4 Axes>"
      ]
     },
     "metadata": {
      "needs_background": "light"
     },
     "output_type": "display_data"
    }
   ],
   "source": [
    "\n",
    "lst = ['balance','duration','previous','pdays']\n",
    "\n",
    "fig, axarr = plt.subplots(nrows=2, ncols=2,\n",
    "                        figsize=(9, 9), constrained_layout=True)\n",
    "for i, p in enumerate(lst):\n",
    "  row = i//2;\n",
    "  pos = i%2;\n",
    "  if (p == 'previous' or p == 'pdays'):\n",
    "    sns.distplot(csv[p],rug=True, hist=False, label='UW', kde_kws={'bw':0.1},ax=axarr[row][pos])\n",
    "  else:\n",
    "    sns.distplot(csv[p],ax=axarr[row][pos])"
   ]
  },
  {
   "cell_type": "code",
   "execution_count": 202,
   "metadata": {},
   "outputs": [
    {
     "name": "stdout",
     "output_type": "stream",
     "text": [
      "8.360308326166326\n",
      "3.144318099423456\n",
      "41.84645447266292\n",
      "2.6157154736563477\n"
     ]
    }
   ],
   "source": [
    "for i, p in enumerate(lst):\n",
    "    print(csv[p].skew())"
   ]
  },
  {
   "cell_type": "markdown",
   "metadata": {},
   "source": [
    "#### b. Strategies to address the different data challenges such as data pollution, outlier’s treatment and missing values treatment.\n"
   ]
  },
  {
   "cell_type": "markdown",
   "metadata": {},
   "source": [
    "#### Handling missing values\n",
    "##### - Since the data does not have any null values , we needn't fill such values or drop any fields. \n",
    "##### - The data  has missing information in the form  of value called 'unknown' for columns such as Education , poutcome and Contact. \n",
    "##### - Since  poutcomes has 81% data as unknown , instead of handling the missing value , the column can be discarded in the as part of data preprocessing.\n",
    "##### - For other columns , Education; unknown values can be dropped under one hot encoding"
   ]
  },
  {
   "cell_type": "code",
   "execution_count": 203,
   "metadata": {},
   "outputs": [
    {
     "data": {
      "text/plain": [
       "secondary    23202\n",
       "tertiary     13301\n",
       "primary       6851\n",
       "unknown       1857\n",
       "Name: education, dtype: int64"
      ]
     },
     "execution_count": 203,
     "metadata": {},
     "output_type": "execute_result"
    }
   ],
   "source": [
    "csv['education'].value_counts()\n",
    "\n"
   ]
  },
  {
   "cell_type": "code",
   "execution_count": 204,
   "metadata": {},
   "outputs": [
    {
     "data": {
      "text/plain": [
       "cellular     29285\n",
       "unknown      13020\n",
       "telephone     2906\n",
       "Name: contact, dtype: int64"
      ]
     },
     "execution_count": 204,
     "metadata": {},
     "output_type": "execute_result"
    }
   ],
   "source": [
    "csv['contact'].value_counts()\n",
    "\n"
   ]
  },
  {
   "cell_type": "markdown",
   "metadata": {},
   "source": [
    "##### Detecting and Handling Outliers:"
   ]
  },
  {
   "cell_type": "code",
   "execution_count": 205,
   "metadata": {},
   "outputs": [
    {
     "name": "stdout",
     "output_type": "stream",
     "text": [
      "age           15.0\n",
      "balance     1356.0\n",
      "day           13.0\n",
      "duration     216.0\n",
      "campaign       2.0\n",
      "pdays          0.0\n",
      "previous       0.0\n",
      "dtype: float64\n"
     ]
    }
   ],
   "source": [
    "#Find inter quartile range in the data:\n",
    "Q1 = csv.quantile(0.25)\n",
    "Q3 = csv.quantile(0.75)\n",
    "IQR = Q3 - Q1\n",
    "print(IQR)"
   ]
  },
  {
   "cell_type": "code",
   "execution_count": 206,
   "metadata": {},
   "outputs": [
    {
     "data": {
      "image/png": "[encoded data removed]",
      "text/plain": [
       "<Figure size 432x288 with 1 Axes>"
      ]
     },
     "metadata": {
      "needs_background": "light"
     },
     "output_type": "display_data"
    }
   ],
   "source": [
    "#### Features balance and  previous  are heavily right skewed which means there are lot of outliers \n",
    "# with extremly higher values\n",
    "\n",
    "\n",
    "plt.boxplot(csv[\"balance\"])\n",
    "plt.show()"
   ]
  },
  {
   "cell_type": "code",
   "execution_count": 207,
   "metadata": {},
   "outputs": [
    {
     "name": "stdout",
     "output_type": "stream",
     "text": [
      "0.0\n",
      "3574.0\n",
      "1.1120635709075353\n"
     ]
    },
    {
     "data": {
      "text/plain": [
       "{'whiskers': [<matplotlib.lines.Line2D at 0x1a3bb8b750>,\n",
       "  <matplotlib.lines.Line2D at 0x1a3bb809d0>],\n",
       " 'caps': [<matplotlib.lines.Line2D at 0x1a3cd1c790>,\n",
       "  <matplotlib.lines.Line2D at 0x1a3cd1cc90>],\n",
       " 'boxes': [<matplotlib.lines.Line2D at 0x1a3cd1a0d0>],\n",
       " 'medians': [<matplotlib.lines.Line2D at 0x1a3cd1add0>],\n",
       " 'fliers': [<matplotlib.lines.Line2D at 0x1a3cd22710>],\n",
       " 'means': []}"
      ]
     },
     "execution_count": 207,
     "metadata": {},
     "output_type": "execute_result"
    },
    {
     "data": {
      "image/png": "[encoded data removed]",
      "text/plain": [
       "<Figure size 432x288 with 1 Axes>"
      ]
     },
     "metadata": {
      "needs_background": "light"
     },
     "output_type": "display_data"
    }
   ],
   "source": [
    "print(csv['balance'].quantile(0.10))\n",
    "print(csv['balance'].quantile(0.90))\n",
    "csv[\"balanceNorm\"] = np.where(csv[\"balance\"] < 0.0, 0.0,csv[\"balance\"])\n",
    "csv[\"balanceNorm\"] = np.where(csv[\"balance\"] > 3574.0, 3574.0,csv[\"balance\"])\n",
    "# check the skew value again \n",
    "print(csv[\"balanceNorm\"].skew())\n",
    "plt.boxplot(csv[\"balanceNorm\"])"
   ]
  },
  {
   "cell_type": "code",
   "execution_count": 208,
   "metadata": {},
   "outputs": [
    {
     "data": {
      "image/png": "[encoded data removed]",
      "text/plain": [
       "<Figure size 432x288 with 1 Axes>"
      ]
     },
     "metadata": {
      "needs_background": "light"
     },
     "output_type": "display_data"
    }
   ],
   "source": [
    "\n",
    "plt.boxplot(csv[\"previous\"])\n",
    "plt.show()\n"
   ]
  },
  {
   "cell_type": "code",
   "execution_count": 209,
   "metadata": {},
   "outputs": [
    {
     "name": "stdout",
     "output_type": "stream",
     "text": [
      "0.0\n",
      "2.0\n",
      "1.9262319071583383\n"
     ]
    },
    {
     "data": {
      "text/plain": [
       "{'whiskers': [<matplotlib.lines.Line2D at 0x1a3cf37a10>,\n",
       "  <matplotlib.lines.Line2D at 0x1a3cf40c10>],\n",
       " 'caps': [<matplotlib.lines.Line2D at 0x1a3b6cebd0>,\n",
       "  <matplotlib.lines.Line2D at 0x1a3cf48650>],\n",
       " 'boxes': [<matplotlib.lines.Line2D at 0x1a3cf379d0>],\n",
       " 'medians': [<matplotlib.lines.Line2D at 0x1a3cf48b90>],\n",
       " 'fliers': [<matplotlib.lines.Line2D at 0x1a3cf40c90>],\n",
       " 'means': []}"
      ]
     },
     "execution_count": 209,
     "metadata": {},
     "output_type": "execute_result"
    },
    {
     "data": {
      "image/png": "[encoded data removed]",
      "text/plain": [
       "<Figure size 432x288 with 1 Axes>"
      ]
     },
     "metadata": {
      "needs_background": "light"
     },
     "output_type": "display_data"
    }
   ],
   "source": [
    "print(csv['previous'].quantile(0.10))\n",
    "print(csv['previous'].quantile(0.90))\n",
    "csv[\"previousNorm\"] = np.where(csv[\"previous\"] < 0.0, 0.0,csv[\"previous\"])\n",
    "csv[\"previousNorm\"] = np.where(csv[\"previous\"] > 2.0, 2.0,csv[\"previous\"])\n",
    "# check the skew value again \n",
    "print(csv[\"previousNorm\"].skew())\n",
    "plt.boxplot(csv[\"previousNorm\"])"
   ]
  },
  {
   "cell_type": "markdown",
   "metadata": {},
   "source": [
    "c. Please provide comments in jupyter notebook regarding the steps you take and\n",
    "insights drawn from the plots."
   ]
  },
  {
   "cell_type": "markdown",
   "metadata": {},
   "source": [
    "#### Summary :\n",
    "##### Observation:\n",
    "##### - There were no null or nan values  in the Data , but categorical attributes have category as 'unknown'.\n",
    "##### - There are negative values in attributes like balance and pdays which makes sense with definition of the data.\n",
    "##### - There were attributes like balance and previous are highly right skewed.\n",
    "\n",
    "##### Actions:\n",
    "##### - Determining pdays to be not used in the modeling as it has too much of missing values.\n",
    "##### - Using Quantile-based Flooring and Capping to normalize the distribution , instead of removing the outliers.\n",
    "\n",
    " \n",
    "    \n",
    "    "
   ]
  },
  {
   "cell_type": "markdown",
   "metadata": {},
   "source": [
    "### 2. Multivariate Analysis"
   ]
  },
  {
   "cell_type": "markdown",
   "metadata": {},
   "source": [
    "#### Corelation between the features to see the relationship in between the attributes:\n"
   ]
  },
  {
   "cell_type": "code",
   "execution_count": 210,
   "metadata": {},
   "outputs": [
    {
     "data": {
      "image/png": "[encoded data removed]",
      "text/plain": [
       "<Figure size 792x792 with 1 Axes>"
      ]
     },
     "metadata": {
      "needs_background": "light"
     },
     "output_type": "display_data"
    }
   ],
   "source": [
    "# Correlation between features in graphical representation so below is function for that\n",
    "def plot_corr(df, size=11):\n",
    "    corr = df.corr()\n",
    "    fig, ax = plt.subplots(figsize=(size, size))\n",
    "    ax.matshow(corr)\n",
    "    plt.xticks(range(len(corr.columns)), corr.columns)\n",
    "    plt.yticks(range(len(corr.columns)), corr.columns)\n",
    "    for (i, j), z in np.ndenumerate(corr):\n",
    "        ax.text(j, i, '{:0.1f}'.format(z), ha='center', va='center')\n",
    "\n",
    "plot_corr(csv)"
   ]
  },
  {
   "cell_type": "markdown",
   "metadata": {},
   "source": [
    "\n",
    "##### Except pdays and previous attributes we do not see a strong corelation in between other attributes \n",
    "\n",
    "\n",
    "###### *( balance and balance norm are same , previous and previos norm are same)\n"
   ]
  },
  {
   "cell_type": "markdown",
   "metadata": {},
   "source": [
    "##### Scatter Plot between pdays and previous  shows no strong corelation."
   ]
  },
  {
   "cell_type": "code",
   "execution_count": 211,
   "metadata": {},
   "outputs": [
    {
     "data": {
      "image/png": "[encoded data removed]",
      "text/plain": [
       "<Figure size 864x432 with 1 Axes>"
      ]
     },
     "metadata": {
      "needs_background": "light"
     },
     "output_type": "display_data"
    }
   ],
   "source": [
    "csv[\"pdayslog\"] = csv[\"pdays\"].map(lambda i: np.log(i) if i > 0 else 0) \n",
    "fig, ax = plt.subplots(figsize=(12,6))\n",
    "ax.scatter(csv['pdayslog'],csv['previousNorm'])\n",
    "ax.set_ylabel('Previous Contacts made')\n",
    "ax.set_xlabel('Number of days passed since last contact')\n",
    "plt.show()"
   ]
  },
  {
   "cell_type": "markdown",
   "metadata": {},
   "source": [
    "##### Corelation between some numeric and categorical variable \n",
    "\n",
    "\n"
   ]
  },
  {
   "cell_type": "code",
   "execution_count": 212,
   "metadata": {},
   "outputs": [
    {
     "data": {
      "image/png": "[encoded data removed]",
      "text/plain": [
       "<Figure size 432x288 with 1 Axes>"
      ]
     },
     "metadata": {
      "needs_background": "light"
     },
     "output_type": "display_data"
    }
   ],
   "source": [
    "sns.boxplot(csv['default'], csv['balance']);\n"
   ]
  },
  {
   "cell_type": "code",
   "execution_count": 213,
   "metadata": {},
   "outputs": [
    {
     "data": {
      "image/png": "[encoded data removed]",
      "text/plain": [
       "<Figure size 432x288 with 1 Axes>"
      ]
     },
     "metadata": {
      "needs_background": "light"
     },
     "output_type": "display_data"
    }
   ],
   "source": [
    "sns.boxplot(csv['default'], csv['previous']);"
   ]
  },
  {
   "cell_type": "markdown",
   "metadata": {},
   "source": [
    "#####  - We see that client with higher account balance  and the ones who were contacted more in the past  have higher chances of not defaulting.\n",
    "#### Relation between the predictor variables and target column"
   ]
  },
  {
   "cell_type": "code",
   "execution_count": 214,
   "metadata": {},
   "outputs": [],
   "source": [
    "from sklearn.preprocessing import LabelEncoder   # import label encoder\n",
    "labelencoder = LabelEncoder()  \n",
    "csv[\"Target\"] = labelencoder.fit_transform(csv.Target) # returns label encoded variable(s)\n"
   ]
  },
  {
   "cell_type": "code",
   "execution_count": 215,
   "metadata": {},
   "outputs": [
    {
     "data": {
      "image/png": "[encoded data removed]",
      "text/plain": [
       "<Figure size 432x288 with 1 Axes>"
      ]
     },
     "metadata": {
      "needs_background": "light"
     },
     "output_type": "display_data"
    }
   ],
   "source": [
    "sns.boxplot(csv['Target'],csv['age']);"
   ]
  },
  {
   "cell_type": "markdown",
   "metadata": {},
   "source": [
    "##### - There does not seem to be a significant impact of age on clients subscribing to the  term deposit."
   ]
  },
  {
   "cell_type": "code",
   "execution_count": 216,
   "metadata": {},
   "outputs": [
    {
     "data": {
      "image/png": "[encoded data removed]",
      "text/plain": [
       "<Figure size 432x288 with 1 Axes>"
      ]
     },
     "metadata": {
      "needs_background": "light"
     },
     "output_type": "display_data"
    }
   ],
   "source": [
    "sns.boxplot(csv['Target'],csv['balanceNorm']);"
   ]
  },
  {
   "cell_type": "code",
   "execution_count": 217,
   "metadata": {},
   "outputs": [
    {
     "data": {
      "image/png": "[encoded data removed]",
      "text/plain": [
       "<Figure size 432x288 with 1 Axes>"
      ]
     },
     "metadata": {
      "needs_background": "light"
     },
     "output_type": "display_data"
    }
   ],
   "source": [
    "sns.barplot(csv['Target'], csv['balanceNorm'],hue=csv['marital']);"
   ]
  },
  {
   "cell_type": "markdown",
   "metadata": {},
   "source": [
    "##### - We see that client that have higher account balance and are a married couple have higher rate of hitting the target  ( subscribe term deposit)."
   ]
  },
  {
   "cell_type": "code",
   "execution_count": 218,
   "metadata": {},
   "outputs": [
    {
     "data": {
      "image/png": "[encoded data removed]",
      "text/plain": [
       "<Figure size 432x288 with 1 Axes>"
      ]
     },
     "metadata": {
      "needs_background": "light"
     },
     "output_type": "display_data"
    }
   ],
   "source": [
    "sns.barplot(csv['Target'], csv['balanceNorm'],hue=csv['housing']);"
   ]
  },
  {
   "cell_type": "markdown",
   "metadata": {},
   "source": [
    " ##### - We see that client with higher account balance and with no housing loan have slightly higher rate of hitting the target ( subscribe term deposit)."
   ]
  },
  {
   "cell_type": "code",
   "execution_count": 219,
   "metadata": {},
   "outputs": [
    {
     "data": {
      "image/png": "[encoded data removed]",
      "text/plain": [
       "<Figure size 432x288 with 1 Axes>"
      ]
     },
     "metadata": {
      "needs_background": "light"
     },
     "output_type": "display_data"
    }
   ],
   "source": [
    "sns.barplot(csv['Target'], csv['balanceNorm'],hue=csv['loan']);"
   ]
  },
  {
   "cell_type": "markdown",
   "metadata": {},
   "source": [
    " ##### - We see that client with higher account balance and with no personal loan have higher chance of subscribing to  term deposit."
   ]
  },
  {
   "cell_type": "code",
   "execution_count": 220,
   "metadata": {},
   "outputs": [
    {
     "data": {
      "image/png": "[encoded data removed]",
      "text/plain": [
       "<Figure size 432x288 with 1 Axes>"
      ]
     },
     "metadata": {
      "needs_background": "light"
     },
     "output_type": "display_data"
    }
   ],
   "source": [
    "sns.barplot(csv['Target'], csv['balanceNorm'],hue=csv['default']);"
   ]
  },
  {
   "cell_type": "markdown",
   "metadata": {},
   "source": [
    "##### - We see that client who have negative account balance and who have defaulted most probably do not end up subscribing to term deposit."
   ]
  },
  {
   "cell_type": "code",
   "execution_count": 221,
   "metadata": {},
   "outputs": [
    {
     "data": {
      "image/png": "[encoded data removed]",
      "text/plain": [
       "<Figure size 432x288 with 1 Axes>"
      ]
     },
     "metadata": {
      "needs_background": "light"
     },
     "output_type": "display_data"
    }
   ],
   "source": [
    "sns.barplot(csv['Target'], csv['balanceNorm'],hue=csv['job']);"
   ]
  },
  {
   "cell_type": "markdown",
   "metadata": {},
   "source": [
    "##### - From the graph above , we see that type of job doesnt make a significant impact on hitting the target."
   ]
  },
  {
   "cell_type": "code",
   "execution_count": 222,
   "metadata": {},
   "outputs": [
    {
     "data": {
      "image/png": "[encoded data removed]",
      "text/plain": [
       "<Figure size 432x288 with 1 Axes>"
      ]
     },
     "metadata": {
      "needs_background": "light"
     },
     "output_type": "display_data"
    }
   ],
   "source": [
    "sns.barplot(csv['Target'], csv['balanceNorm'],hue=csv['education']);"
   ]
  },
  {
   "cell_type": "markdown",
   "metadata": {},
   "source": [
    "##### - Removing unknown/missing information, We see that education leval ratio remains the same and doesnt impact on client subscribing to deposit term."
   ]
  },
  {
   "cell_type": "code",
   "execution_count": 223,
   "metadata": {},
   "outputs": [
    {
     "data": {
      "image/png": "[encoded data removed]",
      "text/plain": [
       "<Figure size 432x288 with 1 Axes>"
      ]
     },
     "metadata": {
      "needs_background": "light"
     },
     "output_type": "display_data"
    }
   ],
   "source": [
    "sns.barplot(csv['Target'], csv['balanceNorm'],hue=csv['contact']);"
   ]
  },
  {
   "cell_type": "markdown",
   "metadata": {},
   "source": [
    "##### -  We see that communication through telephone does a better job of hitting the target. ( unknown/missing information category if filled approroately can change this prediction)."
   ]
  },
  {
   "cell_type": "code",
   "execution_count": 224,
   "metadata": {},
   "outputs": [
    {
     "data": {
      "image/png": "[encoded data removed]",
      "text/plain": [
       "<Figure size 432x288 with 1 Axes>"
      ]
     },
     "metadata": {
      "needs_background": "light"
     },
     "output_type": "display_data"
    }
   ],
   "source": [
    "sns.boxplot(csv['Target'],csv['campaign']);"
   ]
  },
  {
   "cell_type": "markdown",
   "metadata": {},
   "source": [
    "##### -  We see from above trend that after a certain number of contacts made ( under 10) , the success rate of convincing the client doesnt get impacted by increasing the number of calls / contact."
   ]
  },
  {
   "cell_type": "markdown",
   "metadata": {},
   "source": [
    "#### b. Please provide comments in jupyter notebook regarding the steps you take and insights drawn from the plots"
   ]
  },
  {
   "cell_type": "markdown",
   "metadata": {},
   "source": [
    "\n",
    "#### Summary of relationship between attributes and target:\n",
    " ##### The attributes impacting strongly to the target are:\n",
    " #####  - balance \n",
    " #####  - housing\n",
    " #####  - loan\n",
    " #####  - default \n",
    " #####  - marital \n",
    " ##### - previous\n",
    " ##### The attributes impacting moderately  to the target are:\n",
    " #####  - campaign\n",
    " #####  - contact\n",
    " ##### The attributes weakly impacting the target are:\n",
    " #####  - age  \n",
    " #####  - job \n",
    " #####  - education \n",
    " \n",
    "   \n"
   ]
  },
  {
   "cell_type": "markdown",
   "metadata": {},
   "source": [
    "### 3. Prepare the data for analytics"
   ]
  },
  {
   "cell_type": "markdown",
   "metadata": {},
   "source": [
    "#### Handle negative value \n",
    "##### -  For attribute Balance , we need not handle the negative values as they make sense to be negative in the analysis.\n",
    "##### -  As for attribute pdays , log transformation of pdays as column 'pdayslog' takes care of the negative value as well as normalizes the range.\n",
    "\n",
    "#### Transform the data i.e. scale / normalize if required\n",
    "##### -  Attributes like balance , previous are normalized to make sure the skewness is not heavily right and log transformation of pdays is done to handle a large range of value.\n"
   ]
  },
  {
   "cell_type": "code",
   "execution_count": 225,
   "metadata": {},
   "outputs": [
    {
     "data": {
      "text/html": [
       "<div>\n",
       "<style scoped>\n",
       "    .dataframe tbody tr th:only-of-type {\n",
       "        vertical-align: middle;\n",
       "    }\n",
       "\n",
       "    .dataframe tbody tr th {\n",
       "        vertical-align: top;\n",
       "    }\n",
       "\n",
       "    .dataframe thead th {\n",
       "        text-align: right;\n",
       "    }\n",
       "</style>\n",
       "<table border=\"1\" class=\"dataframe\">\n",
       "  <thead>\n",
       "    <tr style=\"text-align: right;\">\n",
       "      <th></th>\n",
       "      <th>age</th>\n",
       "      <th>job</th>\n",
       "      <th>marital</th>\n",
       "      <th>education</th>\n",
       "      <th>default</th>\n",
       "      <th>housing</th>\n",
       "      <th>loan</th>\n",
       "      <th>contact</th>\n",
       "      <th>day</th>\n",
       "      <th>month</th>\n",
       "      <th>duration</th>\n",
       "      <th>campaign</th>\n",
       "      <th>Target</th>\n",
       "      <th>balanceNorm</th>\n",
       "      <th>previousNorm</th>\n",
       "      <th>pdayslog</th>\n",
       "    </tr>\n",
       "  </thead>\n",
       "  <tbody>\n",
       "    <tr>\n",
       "      <th>0</th>\n",
       "      <td>58</td>\n",
       "      <td>management</td>\n",
       "      <td>married</td>\n",
       "      <td>tertiary</td>\n",
       "      <td>no</td>\n",
       "      <td>yes</td>\n",
       "      <td>no</td>\n",
       "      <td>unknown</td>\n",
       "      <td>5</td>\n",
       "      <td>may</td>\n",
       "      <td>261</td>\n",
       "      <td>1</td>\n",
       "      <td>0</td>\n",
       "      <td>2143.0</td>\n",
       "      <td>0.0</td>\n",
       "      <td>0.0</td>\n",
       "    </tr>\n",
       "    <tr>\n",
       "      <th>1</th>\n",
       "      <td>44</td>\n",
       "      <td>technician</td>\n",
       "      <td>single</td>\n",
       "      <td>secondary</td>\n",
       "      <td>no</td>\n",
       "      <td>yes</td>\n",
       "      <td>no</td>\n",
       "      <td>unknown</td>\n",
       "      <td>5</td>\n",
       "      <td>may</td>\n",
       "      <td>151</td>\n",
       "      <td>1</td>\n",
       "      <td>0</td>\n",
       "      <td>29.0</td>\n",
       "      <td>0.0</td>\n",
       "      <td>0.0</td>\n",
       "    </tr>\n",
       "    <tr>\n",
       "      <th>2</th>\n",
       "      <td>33</td>\n",
       "      <td>entrepreneur</td>\n",
       "      <td>married</td>\n",
       "      <td>secondary</td>\n",
       "      <td>no</td>\n",
       "      <td>yes</td>\n",
       "      <td>yes</td>\n",
       "      <td>unknown</td>\n",
       "      <td>5</td>\n",
       "      <td>may</td>\n",
       "      <td>76</td>\n",
       "      <td>1</td>\n",
       "      <td>0</td>\n",
       "      <td>2.0</td>\n",
       "      <td>0.0</td>\n",
       "      <td>0.0</td>\n",
       "    </tr>\n",
       "    <tr>\n",
       "      <th>3</th>\n",
       "      <td>47</td>\n",
       "      <td>blue-collar</td>\n",
       "      <td>married</td>\n",
       "      <td>unknown</td>\n",
       "      <td>no</td>\n",
       "      <td>yes</td>\n",
       "      <td>no</td>\n",
       "      <td>unknown</td>\n",
       "      <td>5</td>\n",
       "      <td>may</td>\n",
       "      <td>92</td>\n",
       "      <td>1</td>\n",
       "      <td>0</td>\n",
       "      <td>1506.0</td>\n",
       "      <td>0.0</td>\n",
       "      <td>0.0</td>\n",
       "    </tr>\n",
       "    <tr>\n",
       "      <th>4</th>\n",
       "      <td>33</td>\n",
       "      <td>unknown</td>\n",
       "      <td>single</td>\n",
       "      <td>unknown</td>\n",
       "      <td>no</td>\n",
       "      <td>no</td>\n",
       "      <td>no</td>\n",
       "      <td>unknown</td>\n",
       "      <td>5</td>\n",
       "      <td>may</td>\n",
       "      <td>198</td>\n",
       "      <td>1</td>\n",
       "      <td>0</td>\n",
       "      <td>1.0</td>\n",
       "      <td>0.0</td>\n",
       "      <td>0.0</td>\n",
       "    </tr>\n",
       "    <tr>\n",
       "      <th>5</th>\n",
       "      <td>35</td>\n",
       "      <td>management</td>\n",
       "      <td>married</td>\n",
       "      <td>tertiary</td>\n",
       "      <td>no</td>\n",
       "      <td>yes</td>\n",
       "      <td>no</td>\n",
       "      <td>unknown</td>\n",
       "      <td>5</td>\n",
       "      <td>may</td>\n",
       "      <td>139</td>\n",
       "      <td>1</td>\n",
       "      <td>0</td>\n",
       "      <td>231.0</td>\n",
       "      <td>0.0</td>\n",
       "      <td>0.0</td>\n",
       "    </tr>\n",
       "    <tr>\n",
       "      <th>6</th>\n",
       "      <td>28</td>\n",
       "      <td>management</td>\n",
       "      <td>single</td>\n",
       "      <td>tertiary</td>\n",
       "      <td>no</td>\n",
       "      <td>yes</td>\n",
       "      <td>yes</td>\n",
       "      <td>unknown</td>\n",
       "      <td>5</td>\n",
       "      <td>may</td>\n",
       "      <td>217</td>\n",
       "      <td>1</td>\n",
       "      <td>0</td>\n",
       "      <td>447.0</td>\n",
       "      <td>0.0</td>\n",
       "      <td>0.0</td>\n",
       "    </tr>\n",
       "    <tr>\n",
       "      <th>7</th>\n",
       "      <td>42</td>\n",
       "      <td>entrepreneur</td>\n",
       "      <td>divorced</td>\n",
       "      <td>tertiary</td>\n",
       "      <td>yes</td>\n",
       "      <td>yes</td>\n",
       "      <td>no</td>\n",
       "      <td>unknown</td>\n",
       "      <td>5</td>\n",
       "      <td>may</td>\n",
       "      <td>380</td>\n",
       "      <td>1</td>\n",
       "      <td>0</td>\n",
       "      <td>2.0</td>\n",
       "      <td>0.0</td>\n",
       "      <td>0.0</td>\n",
       "    </tr>\n",
       "    <tr>\n",
       "      <th>8</th>\n",
       "      <td>58</td>\n",
       "      <td>retired</td>\n",
       "      <td>married</td>\n",
       "      <td>primary</td>\n",
       "      <td>no</td>\n",
       "      <td>yes</td>\n",
       "      <td>no</td>\n",
       "      <td>unknown</td>\n",
       "      <td>5</td>\n",
       "      <td>may</td>\n",
       "      <td>50</td>\n",
       "      <td>1</td>\n",
       "      <td>0</td>\n",
       "      <td>121.0</td>\n",
       "      <td>0.0</td>\n",
       "      <td>0.0</td>\n",
       "    </tr>\n",
       "    <tr>\n",
       "      <th>9</th>\n",
       "      <td>43</td>\n",
       "      <td>technician</td>\n",
       "      <td>single</td>\n",
       "      <td>secondary</td>\n",
       "      <td>no</td>\n",
       "      <td>yes</td>\n",
       "      <td>no</td>\n",
       "      <td>unknown</td>\n",
       "      <td>5</td>\n",
       "      <td>may</td>\n",
       "      <td>55</td>\n",
       "      <td>1</td>\n",
       "      <td>0</td>\n",
       "      <td>593.0</td>\n",
       "      <td>0.0</td>\n",
       "      <td>0.0</td>\n",
       "    </tr>\n",
       "  </tbody>\n",
       "</table>\n",
       "</div>"
      ],
      "text/plain": [
       "   age           job   marital  education default housing loan  contact  day  \\\n",
       "0   58    management   married   tertiary      no     yes   no  unknown    5   \n",
       "1   44    technician    single  secondary      no     yes   no  unknown    5   \n",
       "2   33  entrepreneur   married  secondary      no     yes  yes  unknown    5   \n",
       "3   47   blue-collar   married    unknown      no     yes   no  unknown    5   \n",
       "4   33       unknown    single    unknown      no      no   no  unknown    5   \n",
       "5   35    management   married   tertiary      no     yes   no  unknown    5   \n",
       "6   28    management    single   tertiary      no     yes  yes  unknown    5   \n",
       "7   42  entrepreneur  divorced   tertiary     yes     yes   no  unknown    5   \n",
       "8   58       retired   married    primary      no     yes   no  unknown    5   \n",
       "9   43    technician    single  secondary      no     yes   no  unknown    5   \n",
       "\n",
       "  month  duration  campaign  Target  balanceNorm  previousNorm  pdayslog  \n",
       "0   may       261         1       0       2143.0           0.0       0.0  \n",
       "1   may       151         1       0         29.0           0.0       0.0  \n",
       "2   may        76         1       0          2.0           0.0       0.0  \n",
       "3   may        92         1       0       1506.0           0.0       0.0  \n",
       "4   may       198         1       0          1.0           0.0       0.0  \n",
       "5   may       139         1       0        231.0           0.0       0.0  \n",
       "6   may       217         1       0        447.0           0.0       0.0  \n",
       "7   may       380         1       0          2.0           0.0       0.0  \n",
       "8   may        50         1       0        121.0           0.0       0.0  \n",
       "9   may        55         1       0        593.0           0.0       0.0  "
      ]
     },
     "execution_count": 225,
     "metadata": {},
     "output_type": "execute_result"
    }
   ],
   "source": [
    "# keeping normalized/transformation log of attributes like  pdays,balance,previous \n",
    "data = csv.drop(['pdays','balance','previous'],axis=1)\n",
    "# drop poutcome since from univariate analysis we see that the attribute has too much (81%) data pollution with unknown category.\n",
    "data = data.drop(['poutcome'],axis=1)\n",
    "data.head(10)"
   ]
  },
  {
   "cell_type": "markdown",
   "metadata": {},
   "source": [
    "#### Convert categories which are independent of each other and maintain order "
   ]
  },
  {
   "cell_type": "code",
   "execution_count": 226,
   "metadata": {},
   "outputs": [
    {
     "data": {
      "text/plain": [
       "age                int64\n",
       "job             category\n",
       "marital         category\n",
       "education       category\n",
       "default         category\n",
       "housing         category\n",
       "loan            category\n",
       "contact         category\n",
       "day                int64\n",
       "month           category\n",
       "duration           int64\n",
       "campaign           int64\n",
       "Target             int64\n",
       "balanceNorm      float64\n",
       "previousNorm     float64\n",
       "pdayslog         float64\n",
       "dtype: object"
      ]
     },
     "execution_count": 226,
     "metadata": {},
     "output_type": "execute_result"
    }
   ],
   "source": [
    "for feature in data.columns: # Loop through all columns in the dataframe\n",
    "    if data[feature].dtype == 'object': # Only apply for columns with categorical strings\n",
    "        data[feature] = pd.Categorical(data[feature])# Replace strings with an integer\n",
    "data.dtypes\n"
   ]
  },
  {
   "cell_type": "code",
   "execution_count": 227,
   "metadata": {},
   "outputs": [
    {
     "name": "stdout",
     "output_type": "stream",
     "text": [
      "blue-collar      9732\n",
      "management       9458\n",
      "technician       7597\n",
      "admin.           5171\n",
      "services         4154\n",
      "retired          2264\n",
      "self-employed    1579\n",
      "entrepreneur     1487\n",
      "unemployed       1303\n",
      "housemaid        1240\n",
      "student           938\n",
      "unknown           288\n",
      "Name: job, dtype: int64\n",
      "married     27214\n",
      "single      12790\n",
      "divorced     5207\n",
      "Name: marital, dtype: int64\n",
      "secondary    23202\n",
      "tertiary     13301\n",
      "primary       6851\n",
      "unknown       1857\n",
      "Name: education, dtype: int64\n",
      "no     44396\n",
      "yes      815\n",
      "Name: default, dtype: int64\n",
      "yes    25130\n",
      "no     20081\n",
      "Name: housing, dtype: int64\n",
      "no     37967\n",
      "yes     7244\n",
      "Name: loan, dtype: int64\n",
      "cellular     29285\n",
      "unknown      13020\n",
      "telephone     2906\n",
      "Name: contact, dtype: int64\n",
      "may    13766\n",
      "jul     6895\n",
      "aug     6247\n",
      "jun     5341\n",
      "nov     3970\n",
      "apr     2932\n",
      "feb     2649\n",
      "jan     1403\n",
      "oct      738\n",
      "sep      579\n",
      "mar      477\n",
      "dec      214\n",
      "Name: month, dtype: int64\n"
     ]
    }
   ],
   "source": [
    "print(data.job.value_counts())\n",
    "print(data.marital.value_counts())\n",
    "print(data.education.value_counts())\n",
    "print(data.default.value_counts())\n",
    "print(data.housing.value_counts())\n",
    "print(data.loan.value_counts())\n",
    "print(data.contact.value_counts())\n",
    "print(data.month.value_counts())\n"
   ]
  },
  {
   "cell_type": "code",
   "execution_count": 228,
   "metadata": {},
   "outputs": [],
   "source": [
    "# replace categories with ordered values wherever required\n",
    "replaceStruct = {\n",
    "                \"education\":     {\"primary\": 1, \"secondary\": 2 ,\"tertiary\": 3 ,\"unknown\":-1},\n",
    "                \"contact\": {\"cellular\": 1, \"telephone\":2 ,\"unknown\":-1},\n",
    "                  \"default\":     {\"no\": 0, \"yes\": 1 } ,\n",
    "                  \"month\":     {\"jan\":0,\"feb\":1,\"mar\":2,\"apr\":3,\"may\": 4, \"jun\": 5,\"jul\": 6,\"aug\": 7,\"sep\": 8,\"oct\": 9,\n",
    "                   \"nov\": 10,\"dec\": 11,} \n",
    "        \n",
    "                    }\n",
    "#One hot coding for columns where order isnt recognized and doesnt matter\n",
    "oneHotCols=[\"job\",\"marital\",\"housing\",\"loan\",\"month\"]\n"
   ]
  },
  {
   "cell_type": "code",
   "execution_count": 229,
   "metadata": {},
   "outputs": [
    {
     "data": {
      "text/html": [
       "<div>\n",
       "<style scoped>\n",
       "    .dataframe tbody tr th:only-of-type {\n",
       "        vertical-align: middle;\n",
       "    }\n",
       "\n",
       "    .dataframe tbody tr th {\n",
       "        vertical-align: top;\n",
       "    }\n",
       "\n",
       "    .dataframe thead th {\n",
       "        text-align: right;\n",
       "    }\n",
       "</style>\n",
       "<table border=\"1\" class=\"dataframe\">\n",
       "  <thead>\n",
       "    <tr style=\"text-align: right;\">\n",
       "      <th></th>\n",
       "      <th>age</th>\n",
       "      <th>education</th>\n",
       "      <th>default</th>\n",
       "      <th>contact</th>\n",
       "      <th>day</th>\n",
       "      <th>duration</th>\n",
       "      <th>campaign</th>\n",
       "      <th>Target</th>\n",
       "      <th>balanceNorm</th>\n",
       "      <th>previousNorm</th>\n",
       "      <th>...</th>\n",
       "      <th>month_2</th>\n",
       "      <th>month_3</th>\n",
       "      <th>month_4</th>\n",
       "      <th>month_5</th>\n",
       "      <th>month_6</th>\n",
       "      <th>month_7</th>\n",
       "      <th>month_8</th>\n",
       "      <th>month_9</th>\n",
       "      <th>month_10</th>\n",
       "      <th>month_11</th>\n",
       "    </tr>\n",
       "  </thead>\n",
       "  <tbody>\n",
       "    <tr>\n",
       "      <th>0</th>\n",
       "      <td>58</td>\n",
       "      <td>3</td>\n",
       "      <td>0</td>\n",
       "      <td>-1</td>\n",
       "      <td>5</td>\n",
       "      <td>261</td>\n",
       "      <td>1</td>\n",
       "      <td>0</td>\n",
       "      <td>2143.0</td>\n",
       "      <td>0.0</td>\n",
       "      <td>...</td>\n",
       "      <td>0</td>\n",
       "      <td>0</td>\n",
       "      <td>1</td>\n",
       "      <td>0</td>\n",
       "      <td>0</td>\n",
       "      <td>0</td>\n",
       "      <td>0</td>\n",
       "      <td>0</td>\n",
       "      <td>0</td>\n",
       "      <td>0</td>\n",
       "    </tr>\n",
       "    <tr>\n",
       "      <th>1</th>\n",
       "      <td>44</td>\n",
       "      <td>2</td>\n",
       "      <td>0</td>\n",
       "      <td>-1</td>\n",
       "      <td>5</td>\n",
       "      <td>151</td>\n",
       "      <td>1</td>\n",
       "      <td>0</td>\n",
       "      <td>29.0</td>\n",
       "      <td>0.0</td>\n",
       "      <td>...</td>\n",
       "      <td>0</td>\n",
       "      <td>0</td>\n",
       "      <td>1</td>\n",
       "      <td>0</td>\n",
       "      <td>0</td>\n",
       "      <td>0</td>\n",
       "      <td>0</td>\n",
       "      <td>0</td>\n",
       "      <td>0</td>\n",
       "      <td>0</td>\n",
       "    </tr>\n",
       "    <tr>\n",
       "      <th>2</th>\n",
       "      <td>33</td>\n",
       "      <td>2</td>\n",
       "      <td>0</td>\n",
       "      <td>-1</td>\n",
       "      <td>5</td>\n",
       "      <td>76</td>\n",
       "      <td>1</td>\n",
       "      <td>0</td>\n",
       "      <td>2.0</td>\n",
       "      <td>0.0</td>\n",
       "      <td>...</td>\n",
       "      <td>0</td>\n",
       "      <td>0</td>\n",
       "      <td>1</td>\n",
       "      <td>0</td>\n",
       "      <td>0</td>\n",
       "      <td>0</td>\n",
       "      <td>0</td>\n",
       "      <td>0</td>\n",
       "      <td>0</td>\n",
       "      <td>0</td>\n",
       "    </tr>\n",
       "    <tr>\n",
       "      <th>3</th>\n",
       "      <td>47</td>\n",
       "      <td>-1</td>\n",
       "      <td>0</td>\n",
       "      <td>-1</td>\n",
       "      <td>5</td>\n",
       "      <td>92</td>\n",
       "      <td>1</td>\n",
       "      <td>0</td>\n",
       "      <td>1506.0</td>\n",
       "      <td>0.0</td>\n",
       "      <td>...</td>\n",
       "      <td>0</td>\n",
       "      <td>0</td>\n",
       "      <td>1</td>\n",
       "      <td>0</td>\n",
       "      <td>0</td>\n",
       "      <td>0</td>\n",
       "      <td>0</td>\n",
       "      <td>0</td>\n",
       "      <td>0</td>\n",
       "      <td>0</td>\n",
       "    </tr>\n",
       "    <tr>\n",
       "      <th>4</th>\n",
       "      <td>33</td>\n",
       "      <td>-1</td>\n",
       "      <td>0</td>\n",
       "      <td>-1</td>\n",
       "      <td>5</td>\n",
       "      <td>198</td>\n",
       "      <td>1</td>\n",
       "      <td>0</td>\n",
       "      <td>1.0</td>\n",
       "      <td>0.0</td>\n",
       "      <td>...</td>\n",
       "      <td>0</td>\n",
       "      <td>0</td>\n",
       "      <td>1</td>\n",
       "      <td>0</td>\n",
       "      <td>0</td>\n",
       "      <td>0</td>\n",
       "      <td>0</td>\n",
       "      <td>0</td>\n",
       "      <td>0</td>\n",
       "      <td>0</td>\n",
       "    </tr>\n",
       "    <tr>\n",
       "      <th>5</th>\n",
       "      <td>35</td>\n",
       "      <td>3</td>\n",
       "      <td>0</td>\n",
       "      <td>-1</td>\n",
       "      <td>5</td>\n",
       "      <td>139</td>\n",
       "      <td>1</td>\n",
       "      <td>0</td>\n",
       "      <td>231.0</td>\n",
       "      <td>0.0</td>\n",
       "      <td>...</td>\n",
       "      <td>0</td>\n",
       "      <td>0</td>\n",
       "      <td>1</td>\n",
       "      <td>0</td>\n",
       "      <td>0</td>\n",
       "      <td>0</td>\n",
       "      <td>0</td>\n",
       "      <td>0</td>\n",
       "      <td>0</td>\n",
       "      <td>0</td>\n",
       "    </tr>\n",
       "    <tr>\n",
       "      <th>6</th>\n",
       "      <td>28</td>\n",
       "      <td>3</td>\n",
       "      <td>0</td>\n",
       "      <td>-1</td>\n",
       "      <td>5</td>\n",
       "      <td>217</td>\n",
       "      <td>1</td>\n",
       "      <td>0</td>\n",
       "      <td>447.0</td>\n",
       "      <td>0.0</td>\n",
       "      <td>...</td>\n",
       "      <td>0</td>\n",
       "      <td>0</td>\n",
       "      <td>1</td>\n",
       "      <td>0</td>\n",
       "      <td>0</td>\n",
       "      <td>0</td>\n",
       "      <td>0</td>\n",
       "      <td>0</td>\n",
       "      <td>0</td>\n",
       "      <td>0</td>\n",
       "    </tr>\n",
       "    <tr>\n",
       "      <th>7</th>\n",
       "      <td>42</td>\n",
       "      <td>3</td>\n",
       "      <td>1</td>\n",
       "      <td>-1</td>\n",
       "      <td>5</td>\n",
       "      <td>380</td>\n",
       "      <td>1</td>\n",
       "      <td>0</td>\n",
       "      <td>2.0</td>\n",
       "      <td>0.0</td>\n",
       "      <td>...</td>\n",
       "      <td>0</td>\n",
       "      <td>0</td>\n",
       "      <td>1</td>\n",
       "      <td>0</td>\n",
       "      <td>0</td>\n",
       "      <td>0</td>\n",
       "      <td>0</td>\n",
       "      <td>0</td>\n",
       "      <td>0</td>\n",
       "      <td>0</td>\n",
       "    </tr>\n",
       "    <tr>\n",
       "      <th>8</th>\n",
       "      <td>58</td>\n",
       "      <td>1</td>\n",
       "      <td>0</td>\n",
       "      <td>-1</td>\n",
       "      <td>5</td>\n",
       "      <td>50</td>\n",
       "      <td>1</td>\n",
       "      <td>0</td>\n",
       "      <td>121.0</td>\n",
       "      <td>0.0</td>\n",
       "      <td>...</td>\n",
       "      <td>0</td>\n",
       "      <td>0</td>\n",
       "      <td>1</td>\n",
       "      <td>0</td>\n",
       "      <td>0</td>\n",
       "      <td>0</td>\n",
       "      <td>0</td>\n",
       "      <td>0</td>\n",
       "      <td>0</td>\n",
       "      <td>0</td>\n",
       "    </tr>\n",
       "    <tr>\n",
       "      <th>9</th>\n",
       "      <td>43</td>\n",
       "      <td>2</td>\n",
       "      <td>0</td>\n",
       "      <td>-1</td>\n",
       "      <td>5</td>\n",
       "      <td>55</td>\n",
       "      <td>1</td>\n",
       "      <td>0</td>\n",
       "      <td>593.0</td>\n",
       "      <td>0.0</td>\n",
       "      <td>...</td>\n",
       "      <td>0</td>\n",
       "      <td>0</td>\n",
       "      <td>1</td>\n",
       "      <td>0</td>\n",
       "      <td>0</td>\n",
       "      <td>0</td>\n",
       "      <td>0</td>\n",
       "      <td>0</td>\n",
       "      <td>0</td>\n",
       "      <td>0</td>\n",
       "    </tr>\n",
       "  </tbody>\n",
       "</table>\n",
       "<p>10 rows × 42 columns</p>\n",
       "</div>"
      ],
      "text/plain": [
       "   age  education  default  contact  day  duration  campaign  Target  \\\n",
       "0   58          3        0       -1    5       261         1       0   \n",
       "1   44          2        0       -1    5       151         1       0   \n",
       "2   33          2        0       -1    5        76         1       0   \n",
       "3   47         -1        0       -1    5        92         1       0   \n",
       "4   33         -1        0       -1    5       198         1       0   \n",
       "5   35          3        0       -1    5       139         1       0   \n",
       "6   28          3        0       -1    5       217         1       0   \n",
       "7   42          3        1       -1    5       380         1       0   \n",
       "8   58          1        0       -1    5        50         1       0   \n",
       "9   43          2        0       -1    5        55         1       0   \n",
       "\n",
       "   balanceNorm  previousNorm  ...  month_2  month_3  month_4  month_5  \\\n",
       "0       2143.0           0.0  ...        0        0        1        0   \n",
       "1         29.0           0.0  ...        0        0        1        0   \n",
       "2          2.0           0.0  ...        0        0        1        0   \n",
       "3       1506.0           0.0  ...        0        0        1        0   \n",
       "4          1.0           0.0  ...        0        0        1        0   \n",
       "5        231.0           0.0  ...        0        0        1        0   \n",
       "6        447.0           0.0  ...        0        0        1        0   \n",
       "7          2.0           0.0  ...        0        0        1        0   \n",
       "8        121.0           0.0  ...        0        0        1        0   \n",
       "9        593.0           0.0  ...        0        0        1        0   \n",
       "\n",
       "   month_6  month_7  month_8  month_9  month_10  month_11  \n",
       "0        0        0        0        0         0         0  \n",
       "1        0        0        0        0         0         0  \n",
       "2        0        0        0        0         0         0  \n",
       "3        0        0        0        0         0         0  \n",
       "4        0        0        0        0         0         0  \n",
       "5        0        0        0        0         0         0  \n",
       "6        0        0        0        0         0         0  \n",
       "7        0        0        0        0         0         0  \n",
       "8        0        0        0        0         0         0  \n",
       "9        0        0        0        0         0         0  \n",
       "\n",
       "[10 rows x 42 columns]"
      ]
     },
     "execution_count": 229,
     "metadata": {},
     "output_type": "execute_result"
    }
   ],
   "source": [
    "data=data.replace(replaceStruct)\n",
    "data=pd.get_dummies(data, columns=oneHotCols)\n",
    "data.head(10)\n",
    "\n"
   ]
  },
  {
   "cell_type": "markdown",
   "metadata": {},
   "source": [
    "#### Create the training set and test set in ratio of 70:30"
   ]
  },
  {
   "cell_type": "code",
   "execution_count": 230,
   "metadata": {},
   "outputs": [],
   "source": [
    "from sklearn.preprocessing import LabelEncoder   # import label encoder\n",
    "from sklearn.model_selection import train_test_split\n",
    "from sklearn.tree import DecisionTreeClassifier\n",
    "from sklearn import tree\n",
    "from sklearn import metrics\n",
    "from sklearn.linear_model import LogisticRegression\n",
    "from sklearn.datasets import make_classification\n",
    "from sklearn.metrics import accuracy_score, confusion_matrix, recall_score, roc_auc_score, precision_score,roc_curve, auc,f1_score\n",
    "from matplotlib import pyplot\n",
    "import pickle"
   ]
  },
  {
   "cell_type": "code",
   "execution_count": 231,
   "metadata": {},
   "outputs": [],
   "source": [
    "labelencoder = LabelEncoder()  \n",
    "csv[\"Target\"] = labelencoder.fit_transform(csv.Target) # returns label encoded variable(s)\n",
    "\n",
    "X = data.drop(\"Target\" , axis=1)\n",
    "y = data.pop(\"Target\")"
   ]
  },
  {
   "cell_type": "code",
   "execution_count": 232,
   "metadata": {},
   "outputs": [],
   "source": [
    "X_train, X_test, y_train, y_test = train_test_split(X, y, test_size=.30, random_state=1)"
   ]
  },
  {
   "cell_type": "markdown",
   "metadata": {},
   "source": [
    "### 4. Create the ensemble model\n",
    "\n",
    "#### Building Logistic Regression Model"
   ]
  },
  {
   "cell_type": "code",
   "execution_count": 233,
   "metadata": {},
   "outputs": [
    {
     "name": "stdout",
     "output_type": "stream",
     "text": [
      "Score on Training data 0.8957247132429614\n",
      "Score on Training data 0.8931731052786789\n"
     ]
    }
   ],
   "source": [
    "# Fit the model on train\n",
    "model = LogisticRegression(solver=\"liblinear\")\n",
    "model.fit(X_train, y_train)\n",
    "\n",
    "y_predict = model.predict(X_test)\n",
    "\n",
    "coef_df = pd.DataFrame(model.coef_)\n",
    "coef_df['intercept'] = model.intercept_\n",
    "\n",
    "# Model Score\n",
    "model_score = model.score(X_test, y_test)\n",
    "model_score1 = model.score(X_train, y_train)\n",
    "print('Score on Training data',model_score1)\n",
    "print('Score on Training data',model_score)\n"
   ]
  },
  {
   "cell_type": "markdown",
   "metadata": {},
   "source": [
    "#### Building Decision Tree Model"
   ]
  },
  {
   "cell_type": "code",
   "execution_count": 234,
   "metadata": {},
   "outputs": [
    {
     "name": "stdout",
     "output_type": "stream",
     "text": [
      "Score on Training data  1.0\n",
      "Score on Test Data 0.8728251253317605\n"
     ]
    }
   ],
   "source": [
    "dTree = DecisionTreeClassifier(criterion = 'gini', random_state=1)\n",
    "dTree.fit(X_train, y_train)\n",
    "print(\"Score on Training data \",dTree.score(X_train, y_train))\n",
    "print(\"Score on Test Data\" ,dTree.score(X_test, y_test))"
   ]
  },
  {
   "cell_type": "markdown",
   "metadata": {},
   "source": [
    "##### The score on training data is way higher than on test data which suggests overfitting.\n",
    "##### Reducing over fitting (Regularization) with pruning the tree till depth as 5"
   ]
  },
  {
   "cell_type": "code",
   "execution_count": 235,
   "metadata": {},
   "outputs": [
    {
     "name": "stdout",
     "output_type": "stream",
     "text": [
      "Score on Training data  0.8967674661105318\n",
      "Score on Test Data 0.893320554408729\n"
     ]
    }
   ],
   "source": [
    "dTreeReg = DecisionTreeClassifier(criterion = 'gini', max_depth = 5, random_state=1)\n",
    "dTreeReg.fit(X_train, y_train)\n",
    "print(\"Score on Training data \",dTreeReg.score(X_train, y_train))\n",
    "print(\"Score on Test Data\" ,dTreeReg.score(X_test, y_test))\n",
    "y_predict_tree = dTreeReg.predict(X_test)"
   ]
  },
  {
   "cell_type": "markdown",
   "metadata": {},
   "source": [
    "##### we can see that the score on training data and test data or pretty much equal "
   ]
  },
  {
   "cell_type": "markdown",
   "metadata": {},
   "source": [
    "#### Using confusion matrix to evaluate class level metrics i.e. Precision/Recall. "
   ]
  },
  {
   "cell_type": "code",
   "execution_count": 236,
   "metadata": {},
   "outputs": [
    {
     "name": "stdout",
     "output_type": "stream",
     "text": [
      "\u001b[1m Evaluation for Logistic Regression\u001b[0m\n",
      "  Precision =  0.5702479338842975\n",
      "  Recall = 0.26692456479690524\n",
      "\u001b[1m Evaluation for Decison Tree\u001b[0m\n",
      "  Precision =  0.5809968847352025\n",
      "  Recall = 0.24049000644745325\n"
     ]
    },
    {
     "data": {
      "image/png": "[encoded data removed]",
      "text/plain": [
       "<Figure size 648x648 with 4 Axes>"
      ]
     },
     "metadata": {
      "needs_background": "light"
     },
     "output_type": "display_data"
    }
   ],
   "source": [
    "\n",
    "fig, axarr = plt.subplots(nrows=2, ncols=1,\n",
    "                        figsize=(9, 9), constrained_layout=True)\n",
    "\n",
    "lst = {'Logistic Regression': y_predict, 'Decison Tree': y_predict_tree}\n",
    "idx = 0\n",
    "for key, value in lst.items():\n",
    "    row = idx%2;\n",
    "    idx = idx + 1;\n",
    "    cm=metrics.confusion_matrix(y_test, value, labels=[1, 0])\n",
    "    df_cm = pd.DataFrame(cm, index = [i for i in [\"Actual Hit\",\"Actual Miss\"]],\n",
    "                  columns = [i for i in [\"Predict Hit \",\"Predict Miss\"]])\n",
    "    #plt.figure(figsize = (7,5))\n",
    "    plt.title('Confusion matrix for ' + key )\n",
    "    map = sns.heatmap(df_cm, annot=True,ax=axarr[row])\n",
    "    print ('\\033[1m Evaluation for ' + key + '\\033[0m')\n",
    "    print('  Precision = ', cm[0][0]/(cm[0][0]+ cm[1][0]))\n",
    "    print('  Recall =', cm[0][0]/(cm[0][0]+ cm[0][1]))\n",
    "\n",
    "  \n",
    "    "
   ]
  },
  {
   "cell_type": "markdown",
   "metadata": {},
   "source": [
    "#### Accuracy and F1 score of the models"
   ]
  },
  {
   "cell_type": "code",
   "execution_count": 237,
   "metadata": {},
   "outputs": [
    {
     "name": "stdout",
     "output_type": "stream",
     "text": [
      "\u001b[1mLogistic Regression Model \u001b[0m\n",
      "Accuracy is : 89.31731052786789 %\n",
      "F1 Score is : 0.3636363636363636\n",
      "Logistic: ROC AUC=0.895\n",
      "===========================================================\n",
      "\u001b[1mDecisiom Tree Model \u001b[0m\n",
      "Accuracy is : 89.3320554408729 %\n",
      "F1 Score is : 0.3401732786137711\n",
      "Logistic: ROC AUC=0.821\n"
     ]
    }
   ],
   "source": [
    "#Calculate Accuracy , Precisison , Recall and F1  Score\n",
    "\n",
    "print('\\033[1mLogistic Regression Model \\033[0m')\n",
    "#Accuracy\n",
    "test_accuracy = accuracy_score(y_test, y_predict,1)\n",
    "print('Accuracy is : {} %'.format(test_accuracy*100))\n",
    "\n",
    "\n",
    "#F1 score\n",
    "F1=f1_score(y_test, y_predict, zero_division=1)\n",
    "print('F1 Score is : {}'.format(F1))\n",
    "\n",
    "#ROC Curve\n",
    "# predict probabilities for ROC curve to get the positive outcome only\n",
    "lr_probs = model.predict_proba(X_test)\n",
    "lr_probs = lr_probs[:, 1]\n",
    "\n",
    "\n",
    "#AUC score\n",
    "lr_auc = roc_auc_score(y_test, lr_probs)\n",
    "# summarize scores\n",
    "print('Logistic: ROC AUC=%.3f' % (lr_auc))\n",
    "\n",
    "print('===========================================================')\n",
    "\n",
    "print('\\033[1mDecisiom Tree Model \\033[0m')\n",
    "#Accuracy\n",
    "test_accuracy = accuracy_score(y_test, y_predict_tree,1)\n",
    "print('Accuracy is : {} %'.format(test_accuracy*100))\n",
    "\n",
    "\n",
    "#F1 score\n",
    "F1=f1_score(y_test, y_predict_tree, zero_division=1)\n",
    "print('F1 Score is : {}'.format(F1))\n",
    "#ROC Curve\n",
    "# predict probabilities for ROC curve to get the positive outcome only\n",
    "lr_probs = dTreeReg.predict_proba(X_test)\n",
    "lr_probs = lr_probs[:, 1]\n",
    "\n",
    "\n",
    "#AUC score\n",
    "lr_auc = roc_auc_score(y_test, lr_probs)\n",
    "# summarize scores\n",
    "print('Logistic: ROC AUC=%.3f' % (lr_auc))"
   ]
  },
  {
   "cell_type": "markdown",
   "metadata": {},
   "source": [
    "##### From the above statistics , we see that both the models showcase almost equivalent accuracies.Although Logistic Regression model has a better F1 score ( better precision and recall balance) but ROC AUC score of Decision Tree is better than the former.\n"
   ]
  },
  {
   "cell_type": "markdown",
   "metadata": {},
   "source": [
    "###  5 Better the ensemble models using (Bagging and Boosting)"
   ]
  },
  {
   "cell_type": "markdown",
   "metadata": {},
   "source": [
    "#### To evaluate and better performance we can use the following bagging and boosting techniques"
   ]
  },
  {
   "cell_type": "markdown",
   "metadata": {},
   "source": [
    "#### - Bagging Techinique use on decision tree model (without pruning)"
   ]
  },
  {
   "cell_type": "code",
   "execution_count": 238,
   "metadata": {},
   "outputs": [],
   "source": [
    "from sklearn.ensemble import BaggingClassifier\n",
    "\n",
    "bgcl = BaggingClassifier(base_estimator=dTree, n_estimators=50,random_state=1)\n",
    "bgcl = bgcl.fit(X_train, y_train)"
   ]
  },
  {
   "cell_type": "code",
   "execution_count": 239,
   "metadata": {},
   "outputs": [
    {
     "name": "stdout",
     "output_type": "stream",
     "text": [
      "Bagging Model Score : 0.9046741374225892 %\n",
      "Accuracy is : 90.46741374225891 %\n",
      "F1 Score is : 0.540348382509776\n"
     ]
    },
    {
     "data": {
      "text/plain": [
       "<matplotlib.axes._subplots.AxesSubplot at 0x1a3daac550>"
      ]
     },
     "execution_count": 239,
     "metadata": {},
     "output_type": "execute_result"
    },
    {
     "data": {
      "image/png": "[encoded data removed]",
      "text/plain": [
       "<Figure size 504x360 with 2 Axes>"
      ]
     },
     "metadata": {
      "needs_background": "light"
     },
     "output_type": "display_data"
    }
   ],
   "source": [
    "y_predict_bgcl = bgcl.predict(X_test)\n",
    "\n",
    "print('Bagging Model Score : {} %' .format(bgcl.score(X_test , y_test)))\n",
    "\n",
    "#Accuracy\n",
    "test_accuracy = accuracy_score(y_test, y_predict_bgcl,1)\n",
    "print('Accuracy is : {} %'.format(test_accuracy*100))\n",
    "\n",
    "#F1 score\n",
    "F1=f1_score(y_test, y_predict_bgcl, zero_division=1)\n",
    "print('F1 Score is : {}'.format(F1))\n",
    "\n",
    "cm=metrics.confusion_matrix(y_test, y_predict_bgcl,labels=[0, 1])\n",
    "\n",
    "df_cm = pd.DataFrame(cm, index = [i for i in [\"No\",\"Yes\"]],\n",
    "                  columns = [i for i in [\"No\",\"Yes\"]])\n",
    "plt.figure(figsize = (7,5))\n",
    "sns.heatmap(df_cm, annot=True ,fmt='g')\n"
   ]
  },
  {
   "cell_type": "markdown",
   "metadata": {},
   "source": [
    "#### - Using Bagging classifier with less number of decision trees n_estimators=10"
   ]
  },
  {
   "cell_type": "code",
   "execution_count": 240,
   "metadata": {},
   "outputs": [
    {
     "name": "stdout",
     "output_type": "stream",
     "text": [
      "Bagging Model Score for 10 n_estimator: 0.9002506635210852 %\n",
      "Accuracy is : 90.02506635210852 %\n",
      "F1 Score is : 0.48808172531214533\n"
     ]
    },
    {
     "data": {
      "text/plain": [
       "<matplotlib.axes._subplots.AxesSubplot at 0x1a3db67950>"
      ]
     },
     "execution_count": 240,
     "metadata": {},
     "output_type": "execute_result"
    },
    {
     "data": {
      "image/png": "[encoded data removed]",
      "text/plain": [
       "<Figure size 504x360 with 2 Axes>"
      ]
     },
     "metadata": {
      "needs_background": "light"
     },
     "output_type": "display_data"
    }
   ],
   "source": [
    "# Using Bagging classifier with less number of decision trees\n",
    "\n",
    "bgcl_10 = BaggingClassifier(n_estimators=10,random_state=1)\n",
    "bgcl_10 = bgcl_10.fit(X_train, y_train)\n",
    "\n",
    "y_predict_bgcl10 = bgcl_10.predict(X_test)\n",
    "\n",
    "print('Bagging Model Score for 10 n_estimator: {} %' .format(bgcl_10.score(X_test , y_test)))\n",
    "\n",
    "#Accuracy\n",
    "test_accuracy = accuracy_score(y_test, y_predict_bgcl10,1)\n",
    "print('Accuracy is : {} %'.format(test_accuracy*100))\n",
    "\n",
    "#F1 score\n",
    "F1=f1_score(y_test, y_predict_bgcl10, zero_division=1)\n",
    "print('F1 Score is : {}'.format(F1))\n",
    "\n",
    "cm=metrics.confusion_matrix(y_test, y_predict_bgcl10,labels=[0, 1])\n",
    "\n",
    "df_cm = pd.DataFrame(cm, index = [i for i in [\"No\",\"Yes\"]],\n",
    "                  columns = [i for i in [\"No\",\"Yes\"]])\n",
    "plt.figure(figsize = (7,5))\n",
    "sns.heatmap(df_cm, annot=True ,fmt='g')"
   ]
  },
  {
   "cell_type": "markdown",
   "metadata": {},
   "source": [
    "#### - Using Bagging classifier on pruned tree"
   ]
  },
  {
   "cell_type": "code",
   "execution_count": 241,
   "metadata": {},
   "outputs": [
    {
     "name": "stdout",
     "output_type": "stream",
     "text": [
      "Bagging Model Score with pruned tree: 0.8977440283102329 %\n",
      "Accuracy is : 89.7744028310233 %\n",
      "F1 Score is : 0.4228048272992093\n"
     ]
    },
    {
     "data": {
      "text/plain": [
       "<matplotlib.axes._subplots.AxesSubplot at 0x1a3d773750>"
      ]
     },
     "execution_count": 241,
     "metadata": {},
     "output_type": "execute_result"
    },
    {
     "data": {
      "image/png": "[encoded data removed]",
      "text/plain": [
       "<Figure size 504x360 with 2 Axes>"
      ]
     },
     "metadata": {
      "needs_background": "light"
     },
     "output_type": "display_data"
    }
   ],
   "source": [
    "# Using Bagging classifier on pruned tree\n",
    "\n",
    "bgcl_reg = BaggingClassifier(base_estimator=dTreeReg, n_estimators=50,random_state=1)\n",
    "bgcl_reg = bgcl_reg.fit(X_train, y_train)\n",
    "\n",
    "\n",
    "\n",
    "y_predict_bgcl_reg = bgcl_reg.predict(X_test)\n",
    "\n",
    "print('Bagging Model Score with pruned tree: {} %' .format(bgcl_reg.score(X_test , y_test)))\n",
    "\n",
    "#Accuracy\n",
    "test_accuracy = accuracy_score(y_test, y_predict_bgcl_reg,1)\n",
    "print('Accuracy is : {} %'.format(test_accuracy*100))\n",
    "\n",
    "#F1 score\n",
    "F1=f1_score(y_test, y_predict_bgcl_reg, zero_division=1)\n",
    "print('F1 Score is : {}'.format(F1))\n",
    "\n",
    "cm=metrics.confusion_matrix(y_test, y_predict_bgcl_reg,labels=[0, 1])\n",
    "\n",
    "df_cm = pd.DataFrame(cm, index = [i for i in [\"No\",\"Yes\"]],\n",
    "                  columns = [i for i in [\"No\",\"Yes\"]])\n",
    "plt.figure(figsize = (7,5))\n",
    "sns.heatmap(df_cm, annot=True ,fmt='g')"
   ]
  },
  {
   "cell_type": "markdown",
   "metadata": {},
   "source": [
    "#### Observation: Bagging works better with overfitted decision trees and more number of n_estimators(trees)\n",
    "\n",
    "\n",
    "#### - Using RandomForest Classifier  on decision tree model (without pruning)"
   ]
  },
  {
   "cell_type": "code",
   "execution_count": 145,
   "metadata": {},
   "outputs": [
    {
     "name": "stdout",
     "output_type": "stream",
     "text": [
      "Random Forest Model Score for 50 n_estimator: 0.9026835741669124 %\n",
      "Accuracy is : 90.26835741669123 %\n",
      "F1 Score is : 0.5107487027427725\n"
     ]
    },
    {
     "data": {
      "text/plain": [
       "<matplotlib.axes._subplots.AxesSubplot at 0x1a266f8210>"
      ]
     },
     "execution_count": 145,
     "metadata": {},
     "output_type": "execute_result"
    },
    {
     "data": {
      "image/png": "[encoded data removed]",
      "text/plain": [
       "<Figure size 504x360 with 2 Axes>"
      ]
     },
     "metadata": {
      "needs_background": "light"
     },
     "output_type": "display_data"
    }
   ],
   "source": [
    "from sklearn.ensemble import RandomForestClassifier\n",
    "rfcl = RandomForestClassifier(n_estimators = 50, random_state=1,max_features=12)\n",
    "rfcl = rfcl.fit(X_train, y_train)\n",
    "\n",
    "y_predict_rfcl = rfcl.predict(X_test)\n",
    "\n",
    "print('Random Forest Model Score for 50 n_estimator: {} %' .format(rfcl.score(X_test , y_test)))\n",
    "\n",
    "#Accuracy\n",
    "test_accuracy = accuracy_score(y_test, y_predict_rfcl,1)\n",
    "print('Accuracy is : {} %'.format(test_accuracy*100))\n",
    "\n",
    "#F1 score\n",
    "F1=f1_score(y_test, y_predict_rfcl, zero_division=1)\n",
    "print('F1 Score is : {}'.format(F1))\n",
    "\n",
    "cm=metrics.confusion_matrix(y_test, y_predict_rfcl,labels=[0, 1])\n",
    "\n",
    "df_cm = pd.DataFrame(cm, index = [i for i in [\"No\",\"Yes\"]],\n",
    "                  columns = [i for i in [\"No\",\"Yes\"]])\n",
    "plt.figure(figsize = (7,5))\n",
    "sns.heatmap(df_cm, annot=True ,fmt='g')"
   ]
  },
  {
   "cell_type": "markdown",
   "metadata": {},
   "source": [
    "#### - Using RandomForest Classifier with different n_estimator ( number of trees) and max_features "
   ]
  },
  {
   "cell_type": "code",
   "execution_count": 242,
   "metadata": {},
   "outputs": [
    {
     "name": "stdout",
     "output_type": "stream",
     "text": [
      "Best: 0.902919 using {'max_features': 'sqrt', 'n_estimators': 100}\n",
      "0.895377 (0.004200) with: {'max_features': 'sqrt', 'n_estimators': 10}\n",
      "0.901349 (0.004171) with: {'max_features': 'sqrt', 'n_estimators': 50}\n",
      "0.902919 (0.004722) with: {'max_features': 'sqrt', 'n_estimators': 100}\n",
      "0.894798 (0.003936) with: {'max_features': 'log2', 'n_estimators': 10}\n",
      "0.899874 (0.004158) with: {'max_features': 'log2', 'n_estimators': 50}\n",
      "0.902392 (0.004520) with: {'max_features': 'log2', 'n_estimators': 100}\n"
     ]
    }
   ],
   "source": [
    "from sklearn.datasets import make_blobs\n",
    "from sklearn.model_selection import RepeatedStratifiedKFold\n",
    "from sklearn.model_selection import GridSearchCV\n",
    "from sklearn.ensemble import RandomForestClassifier\n",
    "\n",
    "# define models and parameters\n",
    "model = RandomForestClassifier()\n",
    "n_estimators = [10, 50, 100]\n",
    "max_features = ['sqrt', 'log2']\n",
    "\n",
    "# define grid search\n",
    "grid = dict(n_estimators=n_estimators,max_features=max_features)\n",
    "cv = RepeatedStratifiedKFold(n_splits=10, n_repeats=3, random_state=1)\n",
    "grid_search = GridSearchCV(estimator=model, param_grid=grid, n_jobs=-1, cv=cv, scoring='accuracy',error_score=0)\n",
    "grid_result = grid_search.fit(X_train, y_train)\n",
    "\n",
    "# summarize results\n",
    "print(\"Best: %f using %s\" % (grid_result.best_score_, grid_result.best_params_))\n",
    "means = grid_result.cv_results_['mean_test_score']\n",
    "stds = grid_result.cv_results_['std_test_score']\n",
    "params = grid_result.cv_results_['params']\n",
    "for mean, stdev, param in zip(means, stds, params):\n",
    "    print(\"%f (%f) with: %r\" % (mean, stdev, param))\n",
    "\n",
    "\n",
    "\n"
   ]
  },
  {
   "cell_type": "code",
   "execution_count": 243,
   "metadata": {},
   "outputs": [],
   "source": [
    "rfcl_best = RandomForestClassifier(n_estimators = 100, random_state=1,max_features='sqrt')\n",
    "rfcl_best = rfcl_best.fit(X_train, y_train)\n",
    "\n",
    "y_predict_rfcl_best = rfcl_best.predict(X_test)\n"
   ]
  },
  {
   "cell_type": "markdown",
   "metadata": {},
   "source": [
    "#### Observation : From the above we see that we get the best Model score when n_estimator is high (100) and less number of max features sampled  ( sqrt)\n",
    "#### - Using RandomForest Classifier  on decision tree model with greater depth = 3 ( default is 1)"
   ]
  },
  {
   "cell_type": "code",
   "execution_count": 244,
   "metadata": {},
   "outputs": [
    {
     "name": "stdout",
     "output_type": "stream",
     "text": [
      "Random Forest Model Score for 50 n_estimator: 0.8858006487761723 %\n",
      "Accuracy is : 88.58006487761723 %\n",
      "F1 Score is : 0.005138086062941555\n"
     ]
    },
    {
     "data": {
      "text/plain": [
       "<matplotlib.axes._subplots.AxesSubplot at 0x1a3da51950>"
      ]
     },
     "execution_count": 244,
     "metadata": {},
     "output_type": "execute_result"
    },
    {
     "data": {
      "image/png": "[encoded data removed]",
      "text/plain": [
       "<Figure size 504x360 with 2 Axes>"
      ]
     },
     "metadata": {
      "needs_background": "light"
     },
     "output_type": "display_data"
    }
   ],
   "source": [
    "from sklearn.ensemble import RandomForestClassifier\n",
    "rfcl = RandomForestClassifier(max_depth=3,n_estimators = 50, random_state=1,max_features=12)\n",
    "rfcl = rfcl.fit(X_train, y_train)\n",
    "\n",
    "y_predict_rfcl = rfcl.predict(X_test)\n",
    "\n",
    "print('Random Forest Model Score for 50 n_estimator: {} %' .format(rfcl.score(X_test , y_test)))\n",
    "\n",
    "#Accuracy\n",
    "test_accuracy = accuracy_score(y_test, y_predict_rfcl,1)\n",
    "print('Accuracy is : {} %'.format(test_accuracy*100))\n",
    "\n",
    "#F1 score\n",
    "F1=f1_score(y_test, y_predict_rfcl, zero_division=1)\n",
    "print('F1 Score is : {}'.format(F1))\n",
    "\n",
    "cm=metrics.confusion_matrix(y_test, y_predict_rfcl,labels=[0, 1])\n",
    "\n",
    "df_cm = pd.DataFrame(cm, index = [i for i in [\"No\",\"Yes\"]],\n",
    "                  columns = [i for i in [\"No\",\"Yes\"]])\n",
    "plt.figure(figsize = (7,5))\n",
    "sns.heatmap(df_cm, annot=True ,fmt='g')"
   ]
  },
  {
   "cell_type": "markdown",
   "metadata": {},
   "source": [
    "#### Observation :  We see from the above that the model accuracy significantly drops when trees become more complicated"
   ]
  },
  {
   "cell_type": "markdown",
   "metadata": {},
   "source": [
    "#### Using AdaBoosting"
   ]
  },
  {
   "cell_type": "code",
   "execution_count": 245,
   "metadata": {},
   "outputs": [
    {
     "name": "stdout",
     "output_type": "stream",
     "text": [
      "Adaboosting Model Score : 0.8950162194043055 %\n",
      "Accuracy is : 89.50162194043055 %\n",
      "F1 Score is : 0.42394822006472493\n"
     ]
    },
    {
     "data": {
      "text/plain": [
       "<matplotlib.axes._subplots.AxesSubplot at 0x1a2921c150>"
      ]
     },
     "execution_count": 245,
     "metadata": {},
     "output_type": "execute_result"
    },
    {
     "data": {
      "image/png": "[encoded data removed]",
      "text/plain": [
       "<Figure size 504x360 with 2 Axes>"
      ]
     },
     "metadata": {
      "needs_background": "light"
     },
     "output_type": "display_data"
    }
   ],
   "source": [
    "from sklearn.ensemble import AdaBoostClassifier\n",
    "abcl = AdaBoostClassifier(n_estimators=50, random_state=1)\n",
    "#abcl = AdaBoostClassifier( n_estimators=50,random_state=1)\n",
    "abcl = abcl.fit(X_train, y_train)\n",
    "\n",
    "y_predict_abcl = abcl.predict(X_test)\n",
    "\n",
    "print('Adaboosting Model Score : {} %' .format(abcl.score(X_test , y_test)))\n",
    "\n",
    "#Accuracy\n",
    "test_accuracy = accuracy_score(y_test, y_predict_abcl,1)\n",
    "print('Accuracy is : {} %'.format(test_accuracy*100))\n",
    "\n",
    "#F1 score\n",
    "F1=f1_score(y_test, y_predict_abcl, zero_division=1)\n",
    "print('F1 Score is : {}'.format(F1))\n",
    "\n",
    "cm=metrics.confusion_matrix(y_test, y_predict_abcl,labels=[0, 1])\n",
    "\n",
    "df_cm = pd.DataFrame(cm, index = [i for i in [\"No\",\"Yes\"]],\n",
    "                  columns = [i for i in [\"No\",\"Yes\"]])\n",
    "plt.figure(figsize = (7,5))\n",
    "sns.heatmap(df_cm, annot=True ,fmt='g')"
   ]
  },
  {
   "cell_type": "markdown",
   "metadata": {},
   "source": [
    "#### Using Adaboosting with more stronger tree more depth"
   ]
  },
  {
   "cell_type": "code",
   "execution_count": 246,
   "metadata": {},
   "outputs": [
    {
     "name": "stdout",
     "output_type": "stream",
     "text": [
      "Adaboosting Model Score : 0.8731937481568859 %\n",
      "Accuracy is : 89.50162194043055 %\n",
      "F1 Score is : 0.4694632942628007\n"
     ]
    },
    {
     "data": {
      "text/plain": [
       "<matplotlib.axes._subplots.AxesSubplot at 0x1a3f3c7f90>"
      ]
     },
     "execution_count": 246,
     "metadata": {},
     "output_type": "execute_result"
    },
    {
     "data": {
      "image/png": "[encoded data removed]",
      "text/plain": [
       "<Figure size 504x360 with 2 Axes>"
      ]
     },
     "metadata": {
      "needs_background": "light"
     },
     "output_type": "display_data"
    }
   ],
   "source": [
    "from sklearn.ensemble import AdaBoostClassifier\n",
    "abcl_dp3 = AdaBoostClassifier(base_estimator=dTree,n_estimators=50, random_state=1)\n",
    "abcl_dp3 = abcl_dp3.fit(X_train, y_train)\n",
    "\n",
    "y_predict_abcl_dp3 = abcl_dp3.predict(X_test)\n",
    "\n",
    "print('Adaboosting Model Score : {} %' .format(abcl_dp3.score(X_test , y_test)))\n",
    "\n",
    "#Accuracy\n",
    "test_accuracy = accuracy_score(y_test, y_predict_abcl,1)\n",
    "print('Accuracy is : {} %'.format(test_accuracy*100))\n",
    "\n",
    "#F1 score\n",
    "F1=f1_score(y_test, y_predict_abcl_dp3, zero_division=1)\n",
    "print('F1 Score is : {}'.format(F1))\n",
    "\n",
    "cm=metrics.confusion_matrix(y_test, y_predict_abcl_dp3,labels=[0, 1])\n",
    "\n",
    "df_cm = pd.DataFrame(cm, index = [i for i in [\"No\",\"Yes\"]],\n",
    "                  columns = [i for i in [\"No\",\"Yes\"]])\n",
    "plt.figure(figsize = (7,5))\n",
    "sns.heatmap(df_cm, annot=True ,fmt='g')"
   ]
  },
  {
   "cell_type": "markdown",
   "metadata": {},
   "source": [
    "#### Observation :  The boosting model generally perfoms better with weaker trees interms of model scores.\n",
    "\n",
    "#### Using GradientBoost"
   ]
  },
  {
   "cell_type": "code",
   "execution_count": 247,
   "metadata": {},
   "outputs": [
    {
     "name": "stdout",
     "output_type": "stream",
     "text": [
      "Gradient boosting Model Score : 0.8980389265703332 %\n",
      "Accuracy is : 89.50162194043055 %\n",
      "F1 Score is : 0.41472704189589504\n"
     ]
    },
    {
     "data": {
      "text/plain": [
       "<matplotlib.axes._subplots.AxesSubplot at 0x1a3d330bd0>"
      ]
     },
     "execution_count": 247,
     "metadata": {},
     "output_type": "execute_result"
    },
    {
     "data": {
      "image/png": "[encoded data removed]",
      "text/plain": [
       "<Figure size 504x360 with 2 Axes>"
      ]
     },
     "metadata": {
      "needs_background": "light"
     },
     "output_type": "display_data"
    }
   ],
   "source": [
    "# doesnt allow choosing model for us \n",
    "from sklearn.ensemble import GradientBoostingClassifier\n",
    "gbcl = GradientBoostingClassifier(n_estimators = 50,random_state=1)\n",
    "gbcl = gbcl.fit(X_train, y_train)\n",
    "\n",
    "y_predict_gbcl = gbcl.predict(X_test)\n",
    "\n",
    "print('Gradient boosting Model Score : {} %' .format(gbcl.score(X_test , y_test)))\n",
    "\n",
    "#Accuracy\n",
    "test_accuracy = accuracy_score(y_test, y_predict_abcl,1)\n",
    "print('Accuracy is : {} %'.format(test_accuracy*100))\n",
    "\n",
    "#F1 score\n",
    "F1=f1_score(y_test, y_predict_gbcl, zero_division=1)\n",
    "print('F1 Score is : {}'.format(F1))\n",
    "\n",
    "cm=metrics.confusion_matrix(y_test, y_predict_gbcl,labels=[0, 1])\n",
    "\n",
    "df_cm = pd.DataFrame(cm, index = [i for i in [\"No\",\"Yes\"]],\n",
    "                  columns = [i for i in [\"No\",\"Yes\"]])\n",
    "plt.figure(figsize = (7,5))\n",
    "sns.heatmap(df_cm, annot=True ,fmt='g')\n"
   ]
  },
  {
   "cell_type": "markdown",
   "metadata": {},
   "source": [
    "###  5 Make a DataFrame to compare models and their metrics. Give conclusion regardingthe best algorithm and your reason behind it. "
   ]
  },
  {
   "cell_type": "code",
   "execution_count": 248,
   "metadata": {},
   "outputs": [
    {
     "data": {
      "text/html": [
       "<table border=\"1\" class=\"dataframe\">\n",
       "  <thead>\n",
       "    <tr style=\"text-align: right;\">\n",
       "      <th></th>\n",
       "      <th>Model Score(test)</th>\n",
       "      <th>Model Score(train)</th>\n",
       "      <th>Accuracy (%)</th>\n",
       "      <th>F1 Score</th>\n",
       "    </tr>\n",
       "  </thead>\n",
       "  <tbody>\n",
       "    <tr>\n",
       "      <th>Bagging</th>\n",
       "      <td>0.904674</td>\n",
       "      <td>0.999810</td>\n",
       "      <td>90.467414</td>\n",
       "      <td>0.540348</td>\n",
       "    </tr>\n",
       "    <tr>\n",
       "      <th>Bagging 10 n_estimator</th>\n",
       "      <td>0.900251</td>\n",
       "      <td>0.992890</td>\n",
       "      <td>90.025066</td>\n",
       "      <td>0.488082</td>\n",
       "    </tr>\n",
       "    <tr>\n",
       "      <th>Bagging with pruned tree</th>\n",
       "      <td>0.897744</td>\n",
       "      <td>0.901665</td>\n",
       "      <td>89.774403</td>\n",
       "      <td>0.422805</td>\n",
       "    </tr>\n",
       "    <tr>\n",
       "      <th>Random Forest Classification</th>\n",
       "      <td>0.885801</td>\n",
       "      <td>0.882074</td>\n",
       "      <td>88.580065</td>\n",
       "      <td>0.005138</td>\n",
       "    </tr>\n",
       "    <tr>\n",
       "      <th>Random Forest Classification (best features)</th>\n",
       "      <td>0.903495</td>\n",
       "      <td>0.999937</td>\n",
       "      <td>90.349454</td>\n",
       "      <td>0.481173</td>\n",
       "    </tr>\n",
       "    <tr>\n",
       "      <th>Adaboosting</th>\n",
       "      <td>0.895016</td>\n",
       "      <td>0.896167</td>\n",
       "      <td>89.501622</td>\n",
       "      <td>0.423948</td>\n",
       "    </tr>\n",
       "    <tr>\n",
       "      <th>Adaboosting with stronger trees</th>\n",
       "      <td>0.873194</td>\n",
       "      <td>1.000000</td>\n",
       "      <td>87.319375</td>\n",
       "      <td>0.469463</td>\n",
       "    </tr>\n",
       "    <tr>\n",
       "      <th>Gradient boosting</th>\n",
       "      <td>0.898039</td>\n",
       "      <td>0.903372</td>\n",
       "      <td>89.803893</td>\n",
       "      <td>0.414727</td>\n",
       "    </tr>\n",
       "  </tbody>\n",
       "</table>"
      ],
      "text/plain": [
       "<IPython.core.display.HTML object>"
      ]
     },
     "metadata": {},
     "output_type": "display_data"
    }
   ],
   "source": [
    "from IPython.display import display, HTML\n",
    "\n",
    "lst = [y_predict_bgcl, \n",
    "       y_predict_bgcl10, \n",
    "       y_predict_bgcl_reg,\n",
    "       y_predict_rfcl, \n",
    "       y_predict_rfcl_best,\n",
    "       y_predict_abcl,\n",
    "       y_predict_abcl_dp3, \n",
    "       y_predict_gbcl]\n",
    "\n",
    "lst1 = [bgcl, bgcl_10, bgcl_reg,rfcl, rfcl_best,abcl,abcl_dp3, gbcl]\n",
    "  \n",
    "\n",
    "listing = [];\n",
    "\n",
    "for idx in range(len(lst)):\n",
    "    #Accuracy\n",
    "    test_accuracy = accuracy_score(y_test, lst[idx],1)*100\n",
    "    #F1 score\n",
    "    F1=f1_score(y_test, lst[idx], zero_division=1)\n",
    "    #print(lst1[idx].score(X_test , lst[idx]))\n",
    "    listing.append([lst1[idx].score(X_test , y_test),lst1[idx].score(X_train , y_train),test_accuracy,F1])\n",
    "    \n",
    "    \n",
    "    \n",
    "df_cm = pd.DataFrame(listing, index = [i for i in [\"Bagging\",\"Bagging 10 n_estimator\",\"Bagging with pruned tree\"\n",
    "                                              ,\"Random Forest Classification\",\n",
    "                                                   \"Random Forest Classification (best features)\",\n",
    "                                                   \"Adaboosting\",\n",
    "                                             \"Adaboosting with stronger trees\",\"Gradient boosting\"]],\n",
    "                  columns = [i for i in [\"Model Score(test)\",\"Model Score(train)\",\"Accuracy (%)\",\"F1 Score\"]])\n",
    "\n",
    "\n",
    "\n",
    "display(HTML(df_cm.to_html()))\n",
    "df_cm.to_csv(\"Performance_Matrix.csv\")\n"
   ]
  },
  {
   "cell_type": "markdown",
   "metadata": {},
   "source": [
    "#### Observation:\n",
    "##### 1) Bagging Classifier with overfitted decison trees and  Random Forest Classification models perform best in terms of Accuracy and F1 score.\n",
    "##### 2) Although it is important to make sure the model is not biased against the training model and therefore we should not consider models which have huge difference of model scores between training and testing data.\n",
    "\n",
    "####  Conclusion:\n",
    "##### -  From the above observations , we consider Bagging with pruned tree , Adaboosting and Gradient boosting as the model with very low bias and better suited for our data.\n",
    "##### - Therefore for the given data, Gradient Boosting and Adaboosting are equally best suited models. Although former is better interms of Accuracy (89.8 %) and the later is better interms of F1 score (0.42).\n",
    "\n",
    "\n",
    "\n"
   ]
  }
 ],
 "metadata": {
  "kernelspec": {
   "display_name": "Python 3",
   "language": "python",
   "name": "python3"
  },
  "language_info": {
   "codemirror_mode": {
    "name": "ipython",
    "version": 3
   },
   "file_extension": ".py",
   "mimetype": "text/x-python",
   "name": "python",
   "nbconvert_exporter": "python",
   "pygments_lexer": "ipython3",
   "version": "3.7.6"
  }
 },
 "nbformat": 4,
 "nbformat_minor": 4
}
